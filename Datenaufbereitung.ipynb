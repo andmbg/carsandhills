{
 "cells": [
  {
   "cell_type": "markdown",
   "id": "d499acea-04e1-47cb-abb9-6944fe1b9a6e",
   "metadata": {},
   "source": [
    "# Datenaufbereitung\n",
    "\n",
    "In diesem Notebook stellen wir den aufgeräumten Datensatz her, der den Karten und Modellen im Notebook über Autos und Landschaft zugrundeliegt. Die hier angewandten Techniken beinhalten:\n",
    "\n",
    "- Download und Auslesen von Excel-Tabellen\n",
    "- Zusammenfügen von Daten aus unterschiedlichen Quellen\n",
    "- Umgang mit georeferenzierten Raster, und Vektordaten\n",
    "- weil's geht: Webcrawling von tabellarischen Daten aus der Wikipedia"
   ]
  },
  {
   "cell_type": "code",
   "execution_count": null,
   "id": "fca0b5f1-3798-4a9d-abf7-f7abfd67e98e",
   "metadata": {},
   "outputs": [],
   "source": [
    "import urllib.request\n",
    "import os\n",
    "import zipfile\n",
    "import pandas as pd\n",
    "import geopandas as gpd\n",
    "import plotly.express as px\n",
    "import rioxarray\n",
    "from pyproj import CRS\n",
    "import rpy2\n",
    "%load_ext rpy2.ipython"
   ]
  },
  {
   "cell_type": "code",
   "execution_count": null,
   "id": "8381ad84-7303-4962-bdc3-efeaabd27e5b",
   "metadata": {},
   "outputs": [],
   "source": [
    "%%R\n",
    "\n",
    "suppressMessages({\n",
    "    library(tidyverse)\n",
    "    library(readxl)\n",
    "    library(terra)\n",
    "    library(spatialEco)\n",
    "    library(raster)\n",
    "})"
   ]
  },
  {
   "cell_type": "markdown",
   "id": "2634dd1b-f009-4003-b2d3-160f7c2ca05c",
   "metadata": {},
   "source": [
    "# Download der öffentlichen Daten\n",
    "\n",
    "- **Zulassungsdaten:**  \n",
    "  Kraftfahrtbundesamt  \n",
    "  https://www.kba.de/SharedDocs/Downloads/DE/Statistik/Fahrzeuge/FZ1/fz1_2022.xlsx\n",
    "\n",
    "- **Landkreisgrenzen und Höhenmodell:**  \n",
    "  Geodatenzentrum des Bundesamtes für Kartographie und Geodäsie  \n",
    "  https://daten.gdz.bkg.bund.de/produkte/vg/vg2500/aktuell/vg2500_12-31.utm32s.shape.zip  \n",
    "  https://daten.gdz.bkg.bund.de/produkte/dgm/dgm200/aktuell/dgm200.utm32s.geotiff.zip\n",
    "\n",
    "- **Haushaltseinkommen pro Kopf:**  \n",
    "  Statistische Ämter des Bundes und der Länder  \n",
    "  https://www.statistikportal.de/sites/default/files/2022-10/vgrdl_r2b3_bs2021_0.xlsx\n",
    "  "
   ]
  },
  {
   "cell_type": "code",
   "execution_count": null,
   "id": "c11eb4fa-47bb-402b-a0a6-57db8a618080",
   "metadata": {},
   "outputs": [],
   "source": [
    "# file download:\n",
    "try:\n",
    "    os.mkdir(\"download\")\n",
    "    os.mkdir(\"data\")\n",
    "except FileExistsError as error:\n",
    "    print(\"Data dirs already exist.\")\n",
    "\n",
    "urllib.request.urlretrieve(\"https://www.kba.de/SharedDocs/Downloads/DE/Statistik/Fahrzeuge/FZ1/fz1_2022.xlsx?__blob=publicationFile&v=5\", \"download/Zulassungen.xlsx\")\n",
    "urllib.request.urlretrieve(\"https://daten.gdz.bkg.bund.de/produkte/vg/vg2500/aktuell/vg2500_12-31.utm32s.shape.zip\", \"download/Kreisgrenzen.zip\")\n",
    "urllib.request.urlretrieve(\"https://daten.gdz.bkg.bund.de/produkte/dgm/dgm200/aktuell/dgm200.utm32s.geotiff.zip\", \"download/Höhenmodell.zip\")\n",
    "urllib.request.urlretrieve(\"https://www.statistikportal.de/sites/default/files/2022-10/vgrdl_r2b3_bs2021_0.xlsx\", \"download/Einkommen.xlsx\")\n",
    "\n",
    "with zipfile.ZipFile(\"download/Kreisgrenzen.zip\", \"r\") as zip_ref:\n",
    "    zip_ref.extractall(\"download/Kreisgrenzen\")\n",
    "    \n",
    "with zipfile.ZipFile(\"download/Höhenmodell.zip\", \"r\") as zip_ref:\n",
    "    zip_ref.extractall(\"download/Höhenmodell\")"
   ]
  },
  {
   "cell_type": "markdown",
   "id": "d6808c84-ebe8-47fd-b5eb-c170240d05ef",
   "metadata": {},
   "source": [
    "# Zulassungsdaten\n",
    "\n",
    "Gesucht ist je Kreis die Anzahl der PKW-Zulassungen, unterschieden nach Hubraum und nach Euro-Abgasnorm.\n",
    "Besonders der Hubraum dient uns als Anhaltspunkt, da wir davon ausgehen, dass abgesehen von der Hügeligkeit der umgebenden Landschaft keine anderen, von Kreis zu Kreis systematisch variierenden Faktoren existieren, die vorhersagen würden, dass hier stärkere PKWs als dort notwendig wären."
   ]
  },
  {
   "cell_type": "code",
   "execution_count": null,
   "id": "1737d570-e95a-44aa-947b-b36a607aa7c8",
   "metadata": {},
   "outputs": [],
   "source": [
    "%%R\n",
    "pkw_cm3 <- read_excel(\"download/Zulassungen.xlsx\",\n",
    "                      sheet = \"FZ1.1\",\n",
    "                      skip = 8,\n",
    "                      .name_repair = ~ vctrs::vec_as_names(..., repair = \"unique\", quiet = TRUE))\n",
    "\n",
    "colnames(pkw_cm3) <- str_replace_all(colnames(pkw_cm3), \"[^a-zA-Z0-9]\", \"_\")\n",
    "\n",
    "pkw_cm3 <- pkw_cm3 |> \n",
    "  transmute( id_bezirk = Statistische_Kennziffer_und_Zulassungsbezirk,\n",
    "             krs_code = str_extract(id_bezirk, \"^[0-9]+\"),\n",
    "             id_bezirk = NULL,\n",
    "             pkw_gesamt = insgesamt___9,\n",
    "             max_cm3_1399 = Hubraum__bis___1_399_cm_,\n",
    "             max_cm3_1999 = `1_400__bis__1_999_cm_`,\n",
    "             cm3_over_1999 = `2_000__und__mehr_cm_`,\n",
    "             allrad = und_zwar___mit__Allrad___antrieb ) |> \n",
    "  filter(!is.na(krs_code))\n",
    "\n",
    "\n",
    "\n",
    "pkw_euro <- read_excel(\"download/Zulassungen.xlsx\",\n",
    "                       sheet = \"FZ1.2\",\n",
    "                       skip = 8,\n",
    "                       .name_repair = ~ vctrs::vec_as_names(..., repair = \"unique\", quiet = TRUE))\n",
    "\n",
    "colnames(pkw_euro) <- str_replace_all(colnames(pkw_euro), \"[^a-zA-Z0-9]\", \"_\")\n",
    "\n",
    "pkw_euro <- pkw_euro |> \n",
    "  transmute( krs_code = str_extract(`___3`, \"^[0-9]+\"),\n",
    "             euro_1 = Euro_1___12,\n",
    "             euro_2 = Euro_2___13,\n",
    "             euro_3 = Euro_3___14,\n",
    "             euro_4 = Euro_4___15,\n",
    "             euro_5 = Euro_5___16,\n",
    "             euro_6 = Euro_6___17 ) |> \n",
    "  filter(!is.na(krs_code))"
   ]
  },
  {
   "cell_type": "markdown",
   "id": "85bfa1ac-64dd-4ab2-9622-3bbaa0c285cf",
   "metadata": {},
   "source": [
    "Wir erstellen den Gesamtdatensatz `data` und fügen als Erstes die Zulassungsdaten hinzu:"
   ]
  },
  {
   "cell_type": "code",
   "execution_count": null,
   "id": "3b55bd1c-1ff2-4d63-84e4-1617103c11cc",
   "metadata": {},
   "outputs": [],
   "source": [
    "%%R\n",
    "\n",
    "data <- pkw_cm3 |> \n",
    "  inner_join(pkw_euro, by = c(\"krs_code\")) |> \n",
    "\n",
    "  # zusätzlich zu Absolutzahlen die Anteile am Gesamtbestand:\n",
    "  mutate( \n",
    "#      max_cm3_1399_pct = max_cm3_1399 / pkw_gesamt * 100,\n",
    "#      max_cm3_1999_pct = max_cm3_1999 / pkw_gesamt * 100,\n",
    "      cm3_over_1999_pct = cm3_over_1999 / pkw_gesamt * 100,\n",
    "#      euro_1_pct = euro_1 / pkw_gesamt * 100,\n",
    "#      euro_2_pct = euro_2 / pkw_gesamt * 100,\n",
    "#      euro_3_pct = euro_3 / pkw_gesamt * 100,\n",
    "#      euro_4_pct = euro_4 / pkw_gesamt * 100,\n",
    "#      euro_5_pct = euro_5 / pkw_gesamt * 100,\n",
    "      euro_6_pct = euro_6 / pkw_gesamt * 100,\n",
    "      allrad_pct = allrad / pkw_gesamt * 100\n",
    "      )\n",
    "print(data)"
   ]
  },
  {
   "cell_type": "markdown",
   "id": "fc1e685a-ceb1-4b8f-83ba-5dd323054eee",
   "metadata": {},
   "source": [
    "# Haushaltseinkommen\n",
    "\n",
    "Für jeden Kreis bestehen Daten über das durchschnittliche verfügbare Haushaltseinkommen pro Kopf. Wir ordnen diesen Wert den Kreisen in unserem Datensatz zu:"
   ]
  },
  {
   "cell_type": "code",
   "execution_count": null,
   "id": "1cfbb03a-3f1f-45be-8e2b-6a43d3baa1b3",
   "metadata": {},
   "outputs": [],
   "source": [
    "%%R\n",
    "income <- read_excel(\"download/Einkommen.xlsx\",\n",
    "                     sheet = \"2.4\",\n",
    "                     range = \"A5:AH451\" ) |>\n",
    "  slice(-1) |> \n",
    "  transmute( krs_code = `Regional-schlüssel`,\n",
    "             nuts3 = `NUTS 3`,\n",
    "             income = `2020`) |> \n",
    "  # Länder & Reg.-Bez. ignorieren:\n",
    "  filter(nuts3 == 3) |> \n",
    "  # die 2-stelligen Codes von HH und B mit Nullen auffüllen\n",
    "  # (mit Dank an dieses krumme Code-Format, das Nullen an Anfang und Ende erlaubt\n",
    "  # und dann auch noch inkonsistent benutzt wird)\n",
    "  mutate(krs_code = krs_code |> map_chr(~ paste0(., paste0(rep(\"0\", 5-nchar(.)), collapse = \"\")))) |> \n",
    "  dplyr::select(-nuts3)\n",
    "\n",
    "print(head(income))\n",
    "    \n",
    "data <- data |> \n",
    "  inner_join( income, by = \"krs_code\" )\n",
    "\n",
    "column_names <- colnames(data)"
   ]
  },
  {
   "cell_type": "markdown",
   "id": "acd34e82-e7ba-4ac3-a033-63c67c7aa894",
   "metadata": {},
   "source": [
    "# Umrisse der (Land-)Kreise\n",
    "\n",
    "Um zu erfahren, wie rau das Gelände durchschnittlich in jedem Kreis ist, brauchen wir seinen Umriss, um damit den betreffenden Teil aus dem deutschlandweiten Höhenraster \"auszustechen\" und in ihm den Durchschnittswert zu berechnen. Außerdem benutzen wir diese Umrissdaten gleich für Kartendarstellungen mit."
   ]
  },
  {
   "cell_type": "code",
   "execution_count": null,
   "id": "ff1e378d-8e7d-47c0-b310-5795cee72352",
   "metadata": {},
   "outputs": [],
   "source": [
    "kreise = gpd.read_file(\"download/Kreisgrenzen/vg2500_12-31.utm32s.shape/vg2500/VG2500_KRS.shp\").\\\n",
    "           loc[:,[\"AGS\", \"GEN\", \"geometry\"]].\\\n",
    "           rename({\"AGS\": \"krs_code\",\n",
    "                   \"GEN\": \"name\"}, axis = 1)\n",
    "kreise.set_index(\"krs_code\", inplace = True)\n",
    "kreise = kreise.to_crs(epsg = \"4326\")"
   ]
  },
  {
   "cell_type": "code",
   "execution_count": null,
   "id": "8958e771-d335-450b-9f62-8e17ce9b4222",
   "metadata": {},
   "outputs": [],
   "source": [
    "kreise.head()"
   ]
  },
  {
   "cell_type": "code",
   "execution_count": null,
   "id": "ead2a435-81d9-44b8-b9be-f3f999ae07dd",
   "metadata": {},
   "outputs": [],
   "source": [
    "import rpy2.robjects as robjects\n",
    "\n",
    "# Datensatz aus R überführen, Metadaten und Datentypen korrigieren:\n",
    "data = pd.DataFrame(robjects.globalenv[\"data\"]).transpose()\n",
    "data.columns = robjects.globalenv[\"column_names\"]\n",
    "data.set_index(\"krs_code\", inplace = True)\n",
    "data = data.astype(dict(pkw_gesamt=int, max_cm3_1399=int, max_cm3_1999=int, cm3_over_1999=int,\n",
    "                        euro_1=int, euro_2=int, euro_3=int, euro_4=int, euro_5=int, euro_6=int,\n",
    "                        cm3_over_1999_pct=float, euro_6_pct=float, allrad_pct=float,\n",
    "                        allrad=int, income=int) )\n",
    "\n",
    "# mit Geodaten zusammenführen:\n",
    "data = pd.merge(left  = data,   left_on  = \"krs_code\",\n",
    "                right = kreise, right_on = \"krs_code\")\n",
    "data = gpd.GeoDataFrame(data)\n",
    "\n",
    "data.head()"
   ]
  },
  {
   "cell_type": "markdown",
   "id": "304f209d-c083-4067-8449-fb5d5bd5781f",
   "metadata": {},
   "source": [
    "# Höhenmodell für die Fläche Deutschlands\n",
    "\n",
    "Mit dem *Terrain Ruggedness Index (TRI)* ([Riley et al., 1999](#Bibliografie)) existiert ein Maß für die Rauhheit oder Hügeligkeit einer Landschaft. Es basiert auf einem Höhenmodell, also einem Raster, das für jeden Punkt in einer gewissen Auflösung die Höhe ü. M. angibt. Wir laden das Höhenmodell in R und erstellen daraus ein Raster, das den TRI repräsentiert:"
   ]
  },
  {
   "cell_type": "code",
   "execution_count": null,
   "id": "e43440c7-cfbc-4848-a429-6a5b55939d6d",
   "metadata": {},
   "outputs": [],
   "source": [
    "%%R\n",
    "dem_d <- terra::rast(\"download/Höhenmodell/dgm200.utm32s.geotiff/dgm200/dgm200_utm32s.tif\")\n",
    "ruggedness_d <- spatialEco::tri(dem_d) # dieser Prozess dauert wenige Minuten\n",
    "terra::writeRaster(ruggedness_d, \"data/TRI_DEM200_Deutschland.tif\", overwrite = TRUE)"
   ]
  },
  {
   "cell_type": "markdown",
   "id": "88ae6b99-d401-4cd0-89b3-104981ac3b4f",
   "metadata": {},
   "source": [
    "In Python laden wir das Raster und berechnen je Kreis einen Durchschnittswert:"
   ]
  },
  {
   "cell_type": "code",
   "execution_count": null,
   "id": "88a4eabf-ab6a-4ffc-b745-8b255fe99230",
   "metadata": {},
   "outputs": [],
   "source": [
    "ruggedness_d = rioxarray.open_rasterio(\"data/TRI_DEM200_Deutschland.tif\")\n",
    "ruggedness_d = ruggedness_d.rio.set_crs(25832)\n",
    "ruggedness_d = ruggedness_d.rio.reproject(\"EPSG:4326\")\n",
    "\n",
    "rug_averages = []\n",
    "\n",
    "for i in range(len(data)):\n",
    "  # nimm jeden Kreis-Umriss,\n",
    "  this_geo = [data.iloc[i][\"geometry\"]]\n",
    "  # isoliere den Teil des TRI-Rasters, der darunter liegt\n",
    "  this_raster = ruggedness_d.rio.clip(this_geo)\n",
    "  # und ermittle durchschnittliche Rauhheit\n",
    "  this_avg = float(this_raster.mean())\n",
    "  rug_averages.append(this_avg)\n",
    "\n",
    "data[\"m_rugged\"] = rug_averages\n",
    "\n",
    "data.head()"
   ]
  },
  {
   "cell_type": "code",
   "execution_count": null,
   "id": "e9aaecfb-14d6-4eaa-9734-f5d3c87d4948",
   "metadata": {},
   "outputs": [],
   "source": [
    "data = data.drop(\"geometry\", axis = 1)\n",
    "\n",
    "import csv\n",
    "data.to_csv(\"data/krs_pkw_rug.csv\",\n",
    "            index = True,\n",
    "            quoting = csv.QUOTE_NONNUMERIC)"
   ]
  },
  {
   "cell_type": "markdown",
   "id": "26f79ce1-5fa0-4b82-a3c6-c92367ecf9bd",
   "metadata": {},
   "source": [
    "# Bibliografie\n",
    "\n",
    "Zum Nachschlagen der Literaturverweise auf wissenschaftliche Arbeiten:\n",
    "\n",
    "Riley, S. J., DeGloria, S. D., & Elliot, R. (1999). [Index that quantifies topographic heterogeneity.](http://download.osgeo.org/qgis/doc/reference-docs/Terrain_Ruggedness_Index.pdf) *Intermountain Journal of Sciences*, 5(1-4), 23-27."
   ]
  }
 ],
 "metadata": {
  "kernelspec": {
   "display_name": "Python 3 (ipykernel)",
   "language": "python",
   "name": "python3"
  },
  "language_info": {
   "codemirror_mode": {
    "name": "ipython",
    "version": 3
   },
   "file_extension": ".py",
   "mimetype": "text/x-python",
   "name": "python",
   "nbconvert_exporter": "python",
   "pygments_lexer": "ipython3",
   "version": "3.10.8"
  }
 },
 "nbformat": 4,
 "nbformat_minor": 5
}
