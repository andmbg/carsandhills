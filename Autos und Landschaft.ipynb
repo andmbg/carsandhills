{
 "cells": [
  {
   "cell_type": "code",
   "execution_count": null,
   "id": "c469b965-b6a8-4263-8ff7-fb671b4df715",
   "metadata": {},
   "outputs": [],
   "source": [
    "import pandas as pd\n",
    "import geopandas as gpd\n",
    "import plotly.express as px\n",
    "from plotly.subplots import make_subplots\n",
    "import plotly.graph_objects as go\n",
    "from shapely.geometry.polygon import Polygon\n",
    "import json\n",
    "import numpy as np\n",
    "import re"
   ]
  },
  {
   "cell_type": "markdown",
   "id": "4d23fb5e-03f6-4b6d-8ad4-700e8efc4aef",
   "metadata": {},
   "source": [
    "# Datenimport\n",
    "\n",
    "In einem separaten Jupyter-Notebook wird gezeigt, wie der Datensatz entsteht, beginnend beim Download der öffentlich zugänglichen Daten."
   ]
  },
  {
   "cell_type": "code",
   "execution_count": null,
   "id": "5c9425f2-cbc5-4873-b47a-ee669fe0f44b",
   "metadata": {},
   "outputs": [],
   "source": [
    "df = pd.read_csv(\"data/krs_pkw_rug.csv\",\n",
    "                 dtype = {\"krs_code\": object},\n",
    "                 index_col = \"krs_code\"\n",
    "                )"
   ]
  },
  {
   "cell_type": "markdown",
   "id": "8af78657-eeca-465d-9a75-373c4952cfc1",
   "metadata": {},
   "source": [
    "Geodaten für die Umrisse der Kreise laden. Diese Daten liegen in einem für uns ungüstigen Koordinaten-Referenzsystem vor; das wird korrigiert."
   ]
  },
  {
   "cell_type": "code",
   "execution_count": null,
   "id": "124cc65a-4ffe-4e00-b06f-fd8589edaa20",
   "metadata": {},
   "outputs": [],
   "source": [
    "geo = gpd.read_file(\"download/Kreisgrenzen/vg2500_12-31.utm32s.shape/vg2500/VG2500_KRS.shp\")\n",
    "geo = geo[[\"AGS\", \"geometry\"]]\n",
    "geo = geo.rename({\"AGS\": \"krs_code\"}, axis = 1)\n",
    "geo = geo.to_crs(epsg = \"4236\")"
   ]
  },
  {
   "cell_type": "markdown",
   "id": "82573c75-bd43-4ed5-ac72-170f4553bf36",
   "metadata": {},
   "source": [
    "Wir packen Daten und Geodaten in einen Datenframe, denn Ordnung ist das halbe Leben."
   ]
  },
  {
   "cell_type": "code",
   "execution_count": null,
   "id": "abb0a9a6-244e-427f-b16b-e974e9677581",
   "metadata": {},
   "outputs": [],
   "source": [
    "gdf = pd.merge(df, geo, on = \"krs_code\")\n",
    "gdf = gpd.GeoDataFrame(gdf)\n",
    "gdf = gdf.set_index(\"krs_code\")\n",
    "gdf.head()"
   ]
  },
  {
   "cell_type": "markdown",
   "id": "f9fae570-daab-43cc-a46c-9e379e27276c",
   "metadata": {},
   "source": [
    "# Ein Blick auf die abhängige Variable\n",
    "\n",
    "Wir schauen uns auf der Karte an, wie hoch der Anteil stark motorisierter PKW in jedem Kreis ist. Dies ist nur ein Teil der verfügbaren Information, denn die Daten zur Motorisierung besitzen drei Kategorien. Im statistischen Modell weiter unten verwenden wir die gesamte Information.  \n",
    "Die Karte erlaubt Zoom, per Maus lässt sich der Wert ablesen, Doppelklick setzt den Katenausschnitt zurück."
   ]
  },
  {
   "cell_type": "code",
   "execution_count": null,
   "id": "ec387aec-3bac-47d7-a554-7d22fcec9421",
   "metadata": {
    "tags": []
   },
   "outputs": [],
   "source": [
    "fig = px.choropleth_mapbox(gdf,\n",
    "                           geojson = gdf.geometry,\n",
    "                           color = \"cm3_over_1999_pct\",\n",
    "                           mapbox_style = \"open-street-map\",\n",
    "                           locations = gdf.index,\n",
    "                           opacity = 1,\n",
    "                           hover_name = \"name\",\n",
    "                           custom_data = [\"pkw_gesamt\"],\n",
    "                           center={\"lat\":50.0,\n",
    "                                   \"lon\":10.453},\n",
    "                           zoom = 5.1 )\n",
    "fig.update_traces(hovertemplate = \"<b>%{hovertext}</b><br><br>Anteil der PKW mit Hubraum ab 2.000 cm³:<br>%{z:.2f} %<br>Registrierte PKW: %{customdata:.0f}<extra></extra>\",\n",
    "                  marker_line = dict(width = .5,\n",
    "                                     color = \"#000\"),\n",
    "                 )\n",
    "fig.update_layout(height = 400,\n",
    "                  width = 800,\n",
    "                  coloraxis_colorbar_title = \"%\",\n",
    "                  coloraxis_showscale = False,\n",
    "                  margin = dict(t=0, r=0, b=0, l=0)\n",
    "                 )\n",
    "fig.update_mapboxes(pitch=45)\n",
    "fig.show()"
   ]
  },
  {
   "cell_type": "markdown",
   "id": "97c5ac75-1547-4a9f-be8f-1ef5fb9c6132",
   "metadata": {},
   "source": [
    "Die gleiche Variable betrachten wir oberfächlich visuell im Vergleich mit den beiden Prädiktorvariablen, die wir uns ausgesucht haben. Ob die eine oder die andere besser vorhersagt, wie stark die Menschen sich an einem Ort motorisieren, lässt sich hier informell und ungenau (dafür intuitiv) daran ablesen, ob die Farbverläufe von Karte zu Karte Parallelen aufweisen, d.h. ob die gleichen Regionen auf beiden Karten hell oder dunkel sind."
   ]
  },
  {
   "cell_type": "code",
   "execution_count": null,
   "id": "bbedfdcb-1896-4f3f-bb71-89eeb2e7dab7",
   "metadata": {
    "tags": []
   },
   "outputs": [],
   "source": [
    "fig = make_subplots(rows = 1, cols = 3,\n",
    "                    specs = [[{\"type\": \"choropleth\"}, {\"type\": \"choropleth\"}, {\"type\": \"choropleth\"}]],\n",
    "                    column_titles = [\"Geländerauhheit\", \"Anteil antriebsstarker PKW\", \"Pro-Kopf-Einkommen\"],\n",
    "                    horizontal_spacing = 0.0025 )\n",
    "\n",
    "fig.update_layout(margin = dict(t=25, r=0, b=0, l=0),\n",
    "                  coloraxis_showscale = False,\n",
    "                  autosize = True,\n",
    "                  height = 400, width = 1100,\n",
    "                  paper_bgcolor = \"rgba(0,0,0,0)\",\n",
    "                  plot_bgcolor = \"rgba(0,0,0,0)\"\n",
    "                 )\n",
    "\n",
    "column_hovertext = {\"m_rugged\":          \"<b>%{customdata}</b><br>Rauhheit: %{z:.1f}<extra></extra>\",\n",
    "                    \"cm3_over_1999_pct\": \"<b>%{customdata}</b><br>PKW ab 2.000cm³: %{z:.2f} %<extra></extra>\",\n",
    "                    \"income\":               \"<b>%{customdata}</b><br>Einkommen: %{z:.0f} €<extra></extra>\"\n",
    "                   }\n",
    "\n",
    "for i, this_column_hovertext in enumerate(column_hovertext.items()):\n",
    "    column, hovertext = this_column_hovertext\n",
    "    fig.add_trace(\n",
    "        go.Choropleth(locations = gdf.index,\n",
    "                      z = gdf[column].astype(float), # Data to be color-coded\n",
    "                      geojson = json.loads(gdf[[\"geometry\"]].to_json()),\n",
    "                      showscale = False,\n",
    "                      customdata = gdf.name,\n",
    "                      hovertemplate = hovertext,\n",
    "                      marker_line = {\"width\": .5,\n",
    "                                     \"color\": \"black\"}\n",
    "                      ),\n",
    "        col = i+1, row = 1)\n",
    "    \n",
    "fig.update_geos(fitbounds=\"locations\",\n",
    "                visible = False,\n",
    "                projection_type = \"mercator\")"
   ]
  },
  {
   "cell_type": "markdown",
   "id": "4c511590-2b15-4c47-9e27-000fd067702f",
   "metadata": {},
   "source": [
    "Ob zwischen unseren beiden Prädiktoren und der Motorisierung eine Korrelation besteht, lässt sich auch über einen einfachen Scatterplot zeigen. In den beiden Tafeln steigen Rauhheit und Einkommen jeweils von links nach rechts an. Ein Zusammenhang mit der Motorisierung (y-Achse) zeigt sich in einer mehr oder weniger starken Tendenz der Punkte, zu einer Linie zu konvergieren. Spätestens hier deutet sich ein Unterschied zwischen Rauhheit und Einkommen an. Auch hier gibt die Berührung mit der Maus genaue Zahlen preis."
   ]
  },
  {
   "cell_type": "code",
   "execution_count": null,
   "id": "1a2aaa3c-2aa2-4b08-b238-61339a759c86",
   "metadata": {
    "tags": []
   },
   "outputs": [],
   "source": [
    "fig = make_subplots(rows = 1, cols = 2,\n",
    "                    column_titles = (\"Geländerauhheit\", \"Haushaltseinkommen pro Kopf\"),\n",
    "                    horizontal_spacing = 0.0075,\n",
    "                    shared_yaxes = True )\n",
    "\n",
    "figA = go.Scatter(x = gdf.m_rugged,\n",
    "                  y = gdf.cm3_over_1999_pct,\n",
    "                  mode = \"markers\",\n",
    "                  showlegend = False,\n",
    "                  marker_opacity = .5)\n",
    "\n",
    "figB = go.Scatter(x = gdf.income,\n",
    "                  y = gdf.cm3_over_1999_pct,\n",
    "                  mode = \"markers\",\n",
    "                  showlegend = False,\n",
    "                  marker_opacity = .5)\n",
    "\n",
    "fig.add_trace(figA, row=1, col=1)\n",
    "fig.add_trace(figB, row=1, col=2)\n",
    "\n",
    "fig.update_traces(customdata = gdf.name)\n",
    "\n",
    "fig.data[0].hovertemplate = \"<b>%{customdata}</b><br>Rauhheit: %{x:.1f}<br>PKW ab 2.000cm³: %{y:.2f}<extra></extra>\"\n",
    "fig.data[1].hovertemplate = \"<b>%{customdata}</b><br>Einkommen: %{x:.1f}<br>PKW ab 2.000cm³: %{y:.2f}<extra></extra>\"\n",
    "\n",
    "fig.update_layout(title = {\"text\": \"\"},\n",
    "                  height = 400, width = 800,\n",
    "                  margin = dict(t=25, r=5, b=5, l=5),\n",
    "                  yaxis_ticks = None,\n",
    "                  plot_bgcolor = \"rgba(200,200,200,.3)\",\n",
    "                  paper_bgcolor = \"rgba(0,0,0,0)\",\n",
    "                  xaxis_gridcolor = \"rgba(0,0,0,0)\",\n",
    "                  xaxis2_gridcolor = \"rgba(0,0,0,0)\",\n",
    "                  #xaxis_zeroline = False,\n",
    "                  yaxis_gridcolor = \"rgba(0,0,0,0)\",\n",
    "                  yaxis2_gridcolor = \"rgba(0,0,0,0)\",\n",
    "                 )\n",
    "\n",
    "fig.show()"
   ]
  },
  {
   "cell_type": "markdown",
   "id": "a4df0ea8-7eab-4906-9c1d-fe83f6148c92",
   "metadata": {},
   "source": [
    "# Statistisches Modell\n",
    "\n",
    "Wir benutzen einige Lineare Modelle (genauer: Bayes'sche Generalized Linear Models), um die Fähigkeit der Variablen Rauhheit und Einkommen zu quantifizieren, vorherzusagen, wie sich die Menschen in den verschiedenen Kreisen motorisieren.\n",
    "Diese Art der Modellierung setzen wir in R um."
   ]
  },
  {
   "cell_type": "code",
   "execution_count": null,
   "id": "44bb98f0-d774-48f6-920b-7375723b0322",
   "metadata": {},
   "outputs": [],
   "source": [
    "%load_ext rpy2.ipython\n",
    "import rpy2.robjects as robjects"
   ]
  },
  {
   "cell_type": "code",
   "execution_count": null,
   "id": "faffebc1-eaa3-4ab7-8659-71e5133b669a",
   "metadata": {},
   "outputs": [],
   "source": [
    "%%R\n",
    "library(brms)\n",
    "library(tidyverse)\n",
    "library(tidybayes)"
   ]
  },
  {
   "cell_type": "code",
   "execution_count": null,
   "id": "3ab93d0d-0af3-465f-85a9-64cbbf108353",
   "metadata": {},
   "outputs": [],
   "source": [
    "%%R -i df\n",
    "\n",
    "# prepare data set:\n",
    "df <- tibble(df) |>\n",
    "    transmute(\n",
    "        id = 1:nrow(df),\n",
    "        name,\n",
    "        max_cm3_1399,\n",
    "        max_cm3_1999,\n",
    "        cm3_over_1999,\n",
    "        income,\n",
    "        income_scaled = scale(income),\n",
    "        m_rugged,\n",
    "        m_rugged_scaled = scale(m_rugged),\n",
    "        size = max_cm3_1399 + max_cm3_1999 + cm3_over_1999\n",
    "    )\n",
    "df"
   ]
  },
  {
   "cell_type": "code",
   "execution_count": null,
   "id": "4e765d23-78f9-4d24-82e9-9cd7b1732019",
   "metadata": {},
   "outputs": [],
   "source": [
    "%%R\n",
    "\n",
    "# select priors, fit model:\n",
    "cbind2 <- cbind\n",
    "prior <- prior(normal(0, 10), \"b\" ) +\n",
    "         prior(cauchy(0, 1), \"Intercept\")\n",
    "\n",
    "model_ir <- brm(bf( cbind2(max_cm3_1399, max_cm3_1999, cm3_over_1999) | trials(size) ~ income_scaled * m_rugged_scaled + (1 | id) ),\n",
    "                data = df,\n",
    "                family = multinomial(),\n",
    "                prior = prior,\n",
    "                iter = 5500, warmup = 500, chains = 6, cores = 6,\n",
    "                file = \"model_ir.rds\")"
   ]
  },
  {
   "cell_type": "markdown",
   "id": "be8b4990-17eb-4535-b1d6-441ec725a4c6",
   "metadata": {},
   "source": [
    "## Modellvorhersagen\n",
    "\n",
    "Wir haben zwei Prädiktoren (Geländerauhheit und Einkommen), die sich auf das Ergebnis auswirken. Ein dreidimensionaler Plot könnte hier theoretisch passen, aber auch wenn diese Art der Darstellung beliebt ist und Informationsreichtum suggeriert, sie ist sehr ungenau. Wir helfen uns stattdessen mit dem \"Triptychon\": Wir schauen uns die Auswirkung einer Variable kontinuierlich an, während wir die andere Variable niedrig, mittel oder hoch ansetzen."
   ]
  },
  {
   "cell_type": "markdown",
   "id": "ff0667d2-a378-427e-8512-916dbf7ec965",
   "metadata": {},
   "source": [
    "### Triptychon"
   ]
  },
  {
   "cell_type": "code",
   "execution_count": null,
   "id": "5f7bd16f-1d00-4a9c-b626-f3bc88cc09f0",
   "metadata": {},
   "outputs": [],
   "source": [
    "%%R\n",
    "# temp: test prediction with group effects:\n",
    "temp_simdat <- tibble(\n",
    "    income_scaled = 0,\n",
    "    m_rugged_scaled = 0,\n",
    "    size = 1e5,\n",
    "    id = \"doesn't matter\"\n",
    ")\n",
    "\n",
    "temp_simdat |>\n",
    "    add_predicted_draws(model_ir,\n",
    "                        allow_new_levels = TRUE)"
   ]
  },
  {
   "cell_type": "code",
   "execution_count": null,
   "id": "fb371ce3-f346-4f65-9dd9-4782d13ecbae",
   "metadata": {},
   "outputs": [],
   "source": [
    "%%R\n",
    "\n",
    "# get posterior predictions:\n",
    "simdat <- expand_grid(\n",
    "    income_scaled = c(-2, 0, 2),\n",
    "    m_rugged_scaled = seq(-2, 2, length.out = 10),\n",
    "    size = 1e5,\n",
    "    id = \"doesn't matter\"\n",
    ")\n",
    "\n",
    "post_m1 <- simdat |>\n",
    "    # raw model predictions: counts of cars (as in the data):\n",
    "    add_predicted_draws(model_ir,\n",
    "                        allow_new_levels = TRUE) |>\n",
    "    mean_qi(.width = c(.95, .50)) |>\n",
    "    mutate(.category = as.character(.category),\n",
    "           .row = NULL,\n",
    "           income = income_scaled * attr(df$income_scaled, \"scaled:scale\") + attr(df$income_scaled, \"scaled:center\"),\n",
    "           m_rugged = m_rugged_scaled * attr(df$m_rugged_scaled, \"scaled:scale\") + attr(df$m_rugged_scaled, \"scaled:center\")\n",
    "          ) |>\n",
    "    # shape to [income x rugged x width , motor x stat]:\n",
    "    pivot_wider(names_from = .category,\n",
    "                values_from = .prediction:.upper) |>\n",
    "    transmute(\n",
    "        income_scaled,\n",
    "        m_rugged_scaled,\n",
    "        width = .width,\n",
    "        low_ratio = .prediction_max_cm3_1399  / (.prediction_max_cm3_1399 + .prediction_max_cm3_1999 + .prediction_cm3_over_1999),\n",
    "        low_diff_lower = (.prediction_max_cm3_1399 - .lower_max_cm3_1399) / (.prediction_max_cm3_1399 + .prediction_max_cm3_1999 + .prediction_cm3_over_1999),\n",
    "        low_diff_upper = (.upper_max_cm3_1399 - .prediction_max_cm3_1399) / (.prediction_max_cm3_1399 + .prediction_max_cm3_1999 + .prediction_cm3_over_1999),\n",
    "        mid_ratio = .prediction_max_cm3_1999  / (.prediction_max_cm3_1399 + .prediction_max_cm3_1999 + .prediction_cm3_over_1999),\n",
    "        mid_diff_lower = (.prediction_max_cm3_1999 - .lower_max_cm3_1999) / (.prediction_max_cm3_1399 + .prediction_max_cm3_1999 + .prediction_cm3_over_1999),\n",
    "        mid_diff_upper = (.upper_max_cm3_1999 - .prediction_max_cm3_1999) / (.prediction_max_cm3_1399 + .prediction_max_cm3_1999 + .prediction_cm3_over_1999),\n",
    "        hi_ratio  = .prediction_cm3_over_1999 / (.prediction_max_cm3_1399 + .prediction_max_cm3_1999 + .prediction_cm3_over_1999),\n",
    "        hi_diff_lower = (.prediction_cm3_over_1999 - .lower_cm3_over_1999) / (.prediction_max_cm3_1399 + .prediction_max_cm3_1999 + .prediction_cm3_over_1999),\n",
    "        hi_diff_upper = (.upper_cm3_over_1999 - .prediction_cm3_over_1999) / (.prediction_max_cm3_1399 + .prediction_max_cm3_1999 + .prediction_cm3_over_1999),\n",
    "                \n",
    "        # stack proportions to add to 1:\n",
    "        low_ratio = low_ratio,\n",
    "        low_lower = low_ratio - low_diff_lower,\n",
    "        low_upper = low_ratio + low_diff_upper,\n",
    "        mid_ratio = mid_ratio + low_ratio,\n",
    "        mid_lower = mid_ratio - mid_diff_lower,\n",
    "        mid_upper = mid_ratio + mid_diff_upper,\n",
    "        hi_ratio  = hi_ratio  + mid_ratio,\n",
    "        hi_lower  = hi_ratio  - hi_diff_lower,\n",
    "        hi_upper  = hi_ratio  + hi_diff_upper,\n",
    "    ) |>\n",
    "    \n",
    "        # remove intermediate columns:\n",
    "        select(income_scaled, m_rugged_scaled, width,\n",
    "               low_ratio, low_lower, low_upper,\n",
    "               mid_ratio, mid_lower, mid_upper,\n",
    "               hi_ratio, hi_lower, hi_upper) |>\n",
    "    # shape to [income x rugged x width x motor x stat , ]:\n",
    "    pivot_longer(cols = low_ratio:hi_upper,\n",
    "                 names_sep = \"_\",\n",
    "                 names_to = c(\"motor\", \"stat\")) |>\n",
    "    # shape to [income x rugged x width x motor, stat]:\n",
    "    pivot_wider(names_from = stat,\n",
    "                values_from = value)\n",
    "post_m1"
   ]
  },
  {
   "cell_type": "code",
   "execution_count": null,
   "id": "5fc55b89-125d-4ff4-b6a1-5e9ca697066a",
   "metadata": {},
   "outputs": [],
   "source": [
    "%%R\n",
    "colnames_post <- colnames(post_m1)"
   ]
  },
  {
   "cell_type": "code",
   "execution_count": null,
   "id": "a8c6a60e-7544-4c0c-8fdf-cedb68baff37",
   "metadata": {},
   "outputs": [],
   "source": [
    "post_m1 = pd.DataFrame( robjects.globalenv[\"post_m1\"] ).transpose()\n",
    "post_m1.columns = robjects.globalenv[\"colnames_post\"]\n",
    "post_m1"
   ]
  },
  {
   "cell_type": "code",
   "execution_count": 515,
   "id": "c62345db-c57e-4d45-8e1c-b0e4140837d8",
   "metadata": {},
   "outputs": [
    {
     "data": {
      "application/vnd.plotly.v1+json": {
       "config": {
        "plotlyServerURL": "https://plot.ly"
       },
       "data": [
        {
         "fill": "tonexty",
         "fillcolor": "rgba(255,0,0,.5)",
         "line": {
          "width": 0
         },
         "mode": "lines",
         "showlegend": false,
         "type": "scatter",
         "x": [
          -2,
          -1.5555555555555556,
          -1.1111111111111112,
          -0.6666666666666667,
          -0.22222222222222232,
          0.22222222222222232,
          0.6666666666666665,
          1.1111111111111107,
          1.5555555555555554,
          2
         ],
         "xaxis": "x",
         "y": [
          0.4127377375000001,
          0.41066723250000003,
          0.408616695,
          0.40658532249999996,
          0.40444599000000003,
          0.40229806,
          0.4001327774999999,
          0.3979645725,
          0.39581828249999995,
          0.39364850749999997
         ],
         "yaxis": "y"
        },
        {
         "fill": "tonexty",
         "fillcolor": "rgba(0,255,0,.5)",
         "line": {
          "width": 0
         },
         "mode": "lines",
         "showlegend": false,
         "type": "scatter",
         "x": [
          -2,
          -1.5555555555555556,
          -1.1111111111111112,
          -0.6666666666666667,
          -0.22222222222222232,
          0.22222222222222232,
          0.6666666666666665,
          1.1111111111111107,
          1.5555555555555554,
          2
         ],
         "xaxis": "x",
         "y": [
          0.8801705800000001,
          0.8819695325000001,
          0.8838172199999998,
          0.8856019024999999,
          0.8873594600000001,
          0.8891529575000001,
          0.8908346649999999,
          0.8925541100000001,
          0.8942354124999999,
          0.89589758
         ],
         "yaxis": "y"
        },
        {
         "fill": "tonexty",
         "fillcolor": "rgba(0,0,255,.5)",
         "line": {
          "width": 0
         },
         "mode": "lines",
         "showlegend": false,
         "type": "scatter",
         "x": [
          -2,
          -1.5555555555555556,
          -1.1111111111111112,
          -0.6666666666666667,
          -0.22222222222222232,
          0.22222222222222232,
          0.6666666666666665,
          1.1111111111111107,
          1.5555555555555554,
          2
         ],
         "xaxis": "x",
         "y": [
          1.0000000000000002,
          1,
          0.9999999999999998,
          0.9999999999999999,
          1,
          1.0000000000000002,
          0.9999999999999998,
          1,
          0.9999999999999999,
          1
         ],
         "yaxis": "y"
        },
        {
         "fill": "toself",
         "fillcolor": "rgba(255,255,255,.3)",
         "line": {
          "width": 0
         },
         "mode": "lines",
         "showlegend": false,
         "type": "scatter",
         "x": [
          -2,
          -1.5555555555555556,
          -1.1111111111111112,
          -0.6666666666666667,
          -0.22222222222222232,
          0.22222222222222232,
          0.6666666666666665,
          1.1111111111111107,
          1.5555555555555554,
          2,
          2,
          1.5555555555555554,
          1.1111111111111107,
          0.6666666666666665,
          0.22222222222222232,
          -0.22222222222222232,
          -0.6666666666666667,
          -1.1111111111111112,
          -1.5555555555555556,
          -2
         ],
         "xaxis": "x",
         "y": [
          0.4654327500000001,
          0.46230224999999997,
          0.4595302499999999,
          0.456541,
          0.4543420000000001,
          0.45186200000000004,
          0.4508899999999999,
          0.44884475000000007,
          0.4466319999999999,
          0.44477199999999995,
          0.33613,
          0.33769374999999996,
          0.34070275,
          0.34277899999999983,
          0.34480525000000006,
          0.34540975,
          0.347566,
          0.35026925,
          0.35168,
          0.3534815000000001
         ],
         "yaxis": "y"
        },
        {
         "fill": "toself",
         "fillcolor": "rgba(255,255,255,.3)",
         "line": {
          "width": 0
         },
         "mode": "lines",
         "showlegend": false,
         "type": "scatter",
         "x": [
          -2,
          -1.5555555555555556,
          -1.1111111111111112,
          -0.6666666666666667,
          -0.22222222222222232,
          0.22222222222222232,
          0.6666666666666665,
          1.1111111111111107,
          1.5555555555555554,
          2,
          2,
          1.5555555555555554,
          1.1111111111111107,
          0.6666666666666665,
          0.22222222222222232,
          -0.22222222222222232,
          -0.6666666666666667,
          -1.1111111111111112,
          -1.5555555555555556,
          -2
         ],
         "xaxis": "x",
         "y": [
          0.9288182375000001,
          0.9287579825000001,
          0.9304671949999999,
          0.9316755724999999,
          0.9334872400000002,
          0.9358748100000002,
          0.9388547774999998,
          0.9409288225,
          0.9440487824999999,
          0.9472592575,
          0.8515365075,
          0.8512330324999999,
          0.8503563225,
          0.8494087774999999,
          0.8489065600000001,
          0.8471319900000001,
          0.8456630725,
          0.8439241949999998,
          0.8417464825000001,
          0.8393132375000001
         ],
         "yaxis": "y"
        },
        {
         "fill": "toself",
         "fillcolor": "rgba(255,255,255,.3)",
         "line": {
          "width": 0
         },
         "mode": "lines",
         "showlegend": false,
         "type": "scatter",
         "x": [
          -2,
          -1.5555555555555556,
          -1.1111111111111112,
          -0.6666666666666667,
          -0.22222222222222232,
          0.22222222222222232,
          0.6666666666666665,
          1.1111111111111107,
          1.5555555555555554,
          2,
          2,
          1.5555555555555554,
          1.1111111111111107,
          0.6666666666666665,
          0.22222222222222232,
          -0.22222222222222232,
          -0.6666666666666667,
          -1.1111111111111112,
          -1.5555555555555556,
          -2
         ],
         "xaxis": "x",
         "y": [
          0.4312100000000001,
          0.428785,
          0.42649499999999996,
          0.424545,
          0.42225250000000003,
          0.42039750000000004,
          0.4178024999999999,
          0.4162325,
          0.41415499999999994,
          0.4121125,
          0.3765575,
          0.3789275,
          0.3813375,
          0.3836549999999999,
          0.38590750000000007,
          0.388095,
          0.39050999999999997,
          0.3920874999999999,
          0.3937075,
          0.39592250000000007
         ],
         "yaxis": "y"
        },
        {
         "fill": "toself",
         "fillcolor": "rgba(255,255,255,.3)",
         "line": {
          "width": 0
         },
         "mode": "lines",
         "showlegend": false,
         "type": "scatter",
         "x": [
          -2,
          -1.5555555555555556,
          -1.1111111111111112,
          -0.6666666666666667,
          -0.22222222222222232,
          0.22222222222222232,
          0.6666666666666665,
          1.1111111111111107,
          1.5555555555555554,
          2,
          2,
          1.5555555555555554,
          1.1111111111111107,
          0.6666666666666665,
          0.22222222222222232,
          -0.22222222222222232,
          -0.6666666666666667,
          -1.1111111111111112,
          -1.5555555555555556,
          -2
         ],
         "xaxis": "x",
         "y": [
          0.8938802375000002,
          0.8951747325,
          0.8969041949999998,
          0.8985053224999999,
          0.9001659900000001,
          0.9019305600000002,
          0.9043077774999998,
          0.9065595725000001,
          0.9087557824999999,
          0.9109010075,
          0.8793560075,
          0.8780632824999999,
          0.8767970725,
          0.8754877774999998,
          0.8740455600000001,
          0.8724459900000001,
          0.8705953224999999,
          0.8689491949999999,
          0.8668372325000001,
          0.8644877375000002
         ],
         "yaxis": "y"
        },
        {
         "fill": "tonexty",
         "fillcolor": "rgba(255,0,0,.5)",
         "line": {
          "width": 0
         },
         "mode": "lines",
         "showlegend": false,
         "type": "scatter",
         "x": [
          -2,
          -1.5555555555555556,
          -1.1111111111111112,
          -0.6666666666666667,
          -0.22222222222222232,
          0.22222222222222232,
          0.6666666666666665,
          1.1111111111111107,
          1.5555555555555554,
          2
         ],
         "xaxis": "x2",
         "y": [
          0.3238843275,
          0.32591609,
          0.3279439,
          0.32997141750000003,
          0.3320171625,
          0.33402559249999997,
          0.3360397075,
          0.33814082999999995,
          0.3402461025,
          0.3422540625
         ],
         "yaxis": "y2"
        },
        {
         "fill": "tonexty",
         "fillcolor": "rgba(0,255,0,.5)",
         "line": {
          "width": 0
         },
         "mode": "lines",
         "showlegend": false,
         "type": "scatter",
         "x": [
          -2,
          -1.5555555555555556,
          -1.1111111111111112,
          -0.6666666666666667,
          -0.22222222222222232,
          0.22222222222222232,
          0.6666666666666665,
          1.1111111111111107,
          1.5555555555555554,
          2
         ],
         "xaxis": "x2",
         "y": [
          0.828890865,
          0.829338925,
          0.82978781,
          0.83022375,
          0.830699005,
          0.8311079925,
          0.83155519,
          0.8320227899999999,
          0.8324682425,
          0.8328586099999999
         ],
         "yaxis": "y2"
        },
        {
         "fill": "tonexty",
         "fillcolor": "rgba(0,0,255,.5)",
         "line": {
          "width": 0
         },
         "mode": "lines",
         "showlegend": false,
         "type": "scatter",
         "x": [
          -2,
          -1.5555555555555556,
          -1.1111111111111112,
          -0.6666666666666667,
          -0.22222222222222232,
          0.22222222222222232,
          0.6666666666666665,
          1.1111111111111107,
          1.5555555555555554,
          2
         ],
         "xaxis": "x2",
         "y": [
          1,
          1,
          1,
          1,
          1,
          1,
          1,
          0.9999999999999999,
          1,
          1
         ],
         "yaxis": "y2"
        },
        {
         "fill": "toself",
         "fillcolor": "rgba(255,255,255,.3)",
         "line": {
          "width": 0
         },
         "mode": "lines",
         "showlegend": false,
         "type": "scatter",
         "x": [
          -2,
          -1.5555555555555556,
          -1.1111111111111112,
          -0.6666666666666667,
          -0.22222222222222232,
          0.22222222222222232,
          0.6666666666666665,
          1.1111111111111107,
          1.5555555555555554,
          2,
          2,
          1.5555555555555554,
          1.1111111111111107,
          0.6666666666666665,
          0.22222222222222232,
          -0.22222222222222232,
          -0.6666666666666667,
          -1.1111111111111112,
          -1.5555555555555556,
          -2
         ],
         "xaxis": "x2",
         "y": [
          0.37183025000000003,
          0.373842,
          0.37548525000000005,
          0.37763325000000003,
          0.38039025,
          0.38238075000000005,
          0.3846925,
          0.38710049999999996,
          0.38995475000000007,
          0.39220125,
          0.28724700000000003,
          0.2862565,
          0.28411775,
          0.281659,
          0.28007974999999996,
          0.27814550000000005,
          0.27656975,
          0.27513875000000004,
          0.2733455,
          0.27066900000000005
         ],
         "yaxis": "y2"
        },
        {
         "fill": "toself",
         "fillcolor": "rgba(255,255,255,.3)",
         "line": {
          "width": 0
         },
         "mode": "lines",
         "showlegend": false,
         "type": "scatter",
         "x": [
          -2,
          -1.5555555555555556,
          -1.1111111111111112,
          -0.6666666666666667,
          -0.22222222222222232,
          0.22222222222222232,
          0.6666666666666665,
          1.1111111111111107,
          1.5555555555555554,
          2,
          2,
          1.5555555555555554,
          1.1111111111111107,
          0.6666666666666665,
          0.22222222222222232,
          -0.22222222222222232,
          -0.6666666666666667,
          -1.1111111111111112,
          -1.5555555555555556,
          -2
         ],
         "xaxis": "x2",
         "y": [
          0.8725955775,
          0.87226759,
          0.8725854,
          0.8731621675000001,
          0.8734991625000001,
          0.8750668425,
          0.8754102075,
          0.8764343299999998,
          0.8783873525,
          0.8789665624999999,
          0.7937233125,
          0.7945051025,
          0.79460658,
          0.7941894575,
          0.7940210925000001,
          0.7933169125000001,
          0.7932911675000002,
          0.7919939,
          0.79126134,
          0.7898238275
         ],
         "yaxis": "y2"
        },
        {
         "fill": "toself",
         "fillcolor": "rgba(255,255,255,.3)",
         "line": {
          "width": 0
         },
         "mode": "lines",
         "showlegend": false,
         "type": "scatter",
         "x": [
          -2,
          -1.5555555555555556,
          -1.1111111111111112,
          -0.6666666666666667,
          -0.22222222222222232,
          0.22222222222222232,
          0.6666666666666665,
          1.1111111111111107,
          1.5555555555555554,
          2,
          2,
          1.5555555555555554,
          1.1111111111111107,
          0.6666666666666665,
          0.22222222222222232,
          -0.22222222222222232,
          -0.6666666666666667,
          -1.1111111111111112,
          -1.5555555555555556,
          -2
         ],
         "xaxis": "x2",
         "y": [
          0.34092500000000003,
          0.342975,
          0.3450225,
          0.347105,
          0.34907000000000005,
          0.35123,
          0.353045,
          0.35542749999999995,
          0.3576625,
          0.3601225,
          0.32581,
          0.323955,
          0.32212499999999994,
          0.3202675,
          0.31831,
          0.31612250000000003,
          0.3142775,
          0.3118175,
          0.30962,
          0.3075925
         ],
         "yaxis": "y2"
        },
        {
         "fill": "toself",
         "fillcolor": "rgba(255,255,255,.3)",
         "line": {
          "width": 0
         },
         "mode": "lines",
         "showlegend": false,
         "type": "scatter",
         "x": [
          -2,
          -1.5555555555555556,
          -1.1111111111111112,
          -0.6666666666666667,
          -0.22222222222222232,
          0.22222222222222232,
          0.6666666666666665,
          1.1111111111111107,
          1.5555555555555554,
          2,
          2,
          1.5555555555555554,
          1.1111111111111107,
          0.6666666666666665,
          0.22222222222222232,
          -0.22222222222222232,
          -0.6666666666666667,
          -1.1111111111111112,
          -1.5555555555555556,
          -2
         ],
         "xaxis": "x2",
         "y": [
          0.8424993275,
          0.8430060899999999,
          0.8432389,
          0.8438789175000001,
          0.8441096625000001,
          0.8445780925,
          0.8449872075,
          0.8453183299999999,
          0.8463611025,
          0.8470065625,
          0.8172315625,
          0.8169986025,
          0.8167583299999999,
          0.8166372075,
          0.8161005925,
          0.8159471625000001,
          0.8154914175000001,
          0.8147913999999999,
          0.81428359,
          0.8131743275
         ],
         "yaxis": "y2"
        }
       ],
       "layout": {
        "annotations": [
         {
          "font": {
           "size": 16
          },
          "showarrow": false,
          "text": "Geringes Einkommen",
          "x": 0,
          "xanchor": "left",
          "xref": "paper",
          "y": 1,
          "yanchor": "bottom",
          "yref": "paper"
         },
         {
          "font": {
           "size": 16
          },
          "showarrow": false,
          "text": "Hohes Einkommen",
          "x": 0.51,
          "xanchor": "left",
          "xref": "paper",
          "y": 1,
          "yanchor": "bottom",
          "yref": "paper"
         },
         {
          "font": {
           "color": "rgba(0, 0, 0, 1)",
           "size": 14
          },
          "showarrow": false,
          "text": "kleine Motoren",
          "x": 0,
          "xanchor": "center",
          "xref": "x",
          "y": 0.35329151774999995,
          "yref": "y"
         },
         {
          "font": {
           "color": "rgba(0, 0, 0, 1)",
           "size": 14
          },
          "showarrow": false,
          "text": "mittlere Motoren",
          "x": 0,
          "xanchor": "center",
          "xref": "x",
          "y": 0.838159342,
          "yref": "y"
         },
         {
          "font": {
           "color": "rgba(0, 0, 0, 1)",
           "size": 14
          },
          "showarrow": false,
          "text": "große Motoren",
          "x": 0,
          "xanchor": "center",
          "xref": "x",
          "y": 0.95,
          "yref": "y"
         },
         {
          "arrowcolor": "rgba(0, 0, 0, 0.5)",
          "arrowhead": 2,
          "arrowsize": 2,
          "ax": -1.5,
          "axref": "x",
          "ay": 0.1,
          "ayref": "y",
          "text": "",
          "x": 1.5,
          "xref": "x",
          "y": 0.1,
          "yref": "y"
         },
         {
          "font": {
           "color": "rgba(0, 0, 0, 0.7)",
           "size": 16
          },
          "showarrow": false,
          "text": "Bergland",
          "x": 2,
          "xanchor": "right",
          "xref": "x",
          "y": 0.05,
          "yref": "y"
         },
         {
          "font": {
           "color": "rgba(0, 0, 0, 0.7)",
           "size": 16
          },
          "showarrow": false,
          "text": "Flachland",
          "x": -2,
          "xanchor": "left",
          "xref": "x",
          "y": 0.05,
          "yref": "y"
         },
         {
          "font": {
           "color": "rgba(0, 0, 0, 1)",
           "size": 14
          },
          "showarrow": false,
          "text": "kleine Motoren",
          "x": 0,
          "xanchor": "center",
          "xref": "x2",
          "y": 0.28304391925,
          "yref": "y2"
         },
         {
          "font": {
           "color": "rgba(0, 0, 0, 1)",
           "size": 14
          },
          "showarrow": false,
          "text": "mittlere Motoren",
          "x": 0,
          "xanchor": "center",
          "xref": "x2",
          "y": 0.7808953179999999,
          "yref": "y2"
         },
         {
          "font": {
           "color": "rgba(0, 0, 0, 1)",
           "size": 14
          },
          "showarrow": false,
          "text": "große Motoren",
          "x": 0,
          "xanchor": "center",
          "xref": "x2",
          "y": 0.95,
          "yref": "y2"
         },
         {
          "arrowcolor": "rgba(0, 0, 0, 0.5)",
          "arrowhead": 2,
          "arrowsize": 2,
          "ax": -1.5,
          "axref": "x2",
          "ay": 0.1,
          "ayref": "y",
          "text": "",
          "x": 1.5,
          "xref": "x2",
          "y": 0.1,
          "yref": "y2"
         },
         {
          "font": {
           "color": "rgba(0, 0, 0, 0.7)",
           "size": 16
          },
          "showarrow": false,
          "text": "Bergland",
          "x": 2,
          "xanchor": "right",
          "xref": "x2",
          "y": 0.05,
          "yref": "y2"
         },
         {
          "font": {
           "color": "rgba(0, 0, 0, 0.7)",
           "size": 16
          },
          "showarrow": false,
          "text": "Flachland",
          "x": -2,
          "xanchor": "left",
          "xref": "x2",
          "y": 0.05,
          "yref": "y2"
         }
        ],
        "height": 400,
        "margin": {
         "b": 20,
         "l": 20,
         "r": 20,
         "t": 50
        },
        "paper_bgcolor": "rgba(0, 0, 0, 0)",
        "plot_bgcolor": "rgba(200,200,200,.3)",
        "template": {
         "data": {
          "bar": [
           {
            "error_x": {
             "color": "#2a3f5f"
            },
            "error_y": {
             "color": "#2a3f5f"
            },
            "marker": {
             "line": {
              "color": "#E5ECF6",
              "width": 0.5
             },
             "pattern": {
              "fillmode": "overlay",
              "size": 10,
              "solidity": 0.2
             }
            },
            "type": "bar"
           }
          ],
          "barpolar": [
           {
            "marker": {
             "line": {
              "color": "#E5ECF6",
              "width": 0.5
             },
             "pattern": {
              "fillmode": "overlay",
              "size": 10,
              "solidity": 0.2
             }
            },
            "type": "barpolar"
           }
          ],
          "carpet": [
           {
            "aaxis": {
             "endlinecolor": "#2a3f5f",
             "gridcolor": "white",
             "linecolor": "white",
             "minorgridcolor": "white",
             "startlinecolor": "#2a3f5f"
            },
            "baxis": {
             "endlinecolor": "#2a3f5f",
             "gridcolor": "white",
             "linecolor": "white",
             "minorgridcolor": "white",
             "startlinecolor": "#2a3f5f"
            },
            "type": "carpet"
           }
          ],
          "choropleth": [
           {
            "colorbar": {
             "outlinewidth": 0,
             "ticks": ""
            },
            "type": "choropleth"
           }
          ],
          "contour": [
           {
            "colorbar": {
             "outlinewidth": 0,
             "ticks": ""
            },
            "colorscale": [
             [
              0,
              "#0d0887"
             ],
             [
              0.1111111111111111,
              "#46039f"
             ],
             [
              0.2222222222222222,
              "#7201a8"
             ],
             [
              0.3333333333333333,
              "#9c179e"
             ],
             [
              0.4444444444444444,
              "#bd3786"
             ],
             [
              0.5555555555555556,
              "#d8576b"
             ],
             [
              0.6666666666666666,
              "#ed7953"
             ],
             [
              0.7777777777777778,
              "#fb9f3a"
             ],
             [
              0.8888888888888888,
              "#fdca26"
             ],
             [
              1,
              "#f0f921"
             ]
            ],
            "type": "contour"
           }
          ],
          "contourcarpet": [
           {
            "colorbar": {
             "outlinewidth": 0,
             "ticks": ""
            },
            "type": "contourcarpet"
           }
          ],
          "heatmap": [
           {
            "colorbar": {
             "outlinewidth": 0,
             "ticks": ""
            },
            "colorscale": [
             [
              0,
              "#0d0887"
             ],
             [
              0.1111111111111111,
              "#46039f"
             ],
             [
              0.2222222222222222,
              "#7201a8"
             ],
             [
              0.3333333333333333,
              "#9c179e"
             ],
             [
              0.4444444444444444,
              "#bd3786"
             ],
             [
              0.5555555555555556,
              "#d8576b"
             ],
             [
              0.6666666666666666,
              "#ed7953"
             ],
             [
              0.7777777777777778,
              "#fb9f3a"
             ],
             [
              0.8888888888888888,
              "#fdca26"
             ],
             [
              1,
              "#f0f921"
             ]
            ],
            "type": "heatmap"
           }
          ],
          "heatmapgl": [
           {
            "colorbar": {
             "outlinewidth": 0,
             "ticks": ""
            },
            "colorscale": [
             [
              0,
              "#0d0887"
             ],
             [
              0.1111111111111111,
              "#46039f"
             ],
             [
              0.2222222222222222,
              "#7201a8"
             ],
             [
              0.3333333333333333,
              "#9c179e"
             ],
             [
              0.4444444444444444,
              "#bd3786"
             ],
             [
              0.5555555555555556,
              "#d8576b"
             ],
             [
              0.6666666666666666,
              "#ed7953"
             ],
             [
              0.7777777777777778,
              "#fb9f3a"
             ],
             [
              0.8888888888888888,
              "#fdca26"
             ],
             [
              1,
              "#f0f921"
             ]
            ],
            "type": "heatmapgl"
           }
          ],
          "histogram": [
           {
            "marker": {
             "pattern": {
              "fillmode": "overlay",
              "size": 10,
              "solidity": 0.2
             }
            },
            "type": "histogram"
           }
          ],
          "histogram2d": [
           {
            "colorbar": {
             "outlinewidth": 0,
             "ticks": ""
            },
            "colorscale": [
             [
              0,
              "#0d0887"
             ],
             [
              0.1111111111111111,
              "#46039f"
             ],
             [
              0.2222222222222222,
              "#7201a8"
             ],
             [
              0.3333333333333333,
              "#9c179e"
             ],
             [
              0.4444444444444444,
              "#bd3786"
             ],
             [
              0.5555555555555556,
              "#d8576b"
             ],
             [
              0.6666666666666666,
              "#ed7953"
             ],
             [
              0.7777777777777778,
              "#fb9f3a"
             ],
             [
              0.8888888888888888,
              "#fdca26"
             ],
             [
              1,
              "#f0f921"
             ]
            ],
            "type": "histogram2d"
           }
          ],
          "histogram2dcontour": [
           {
            "colorbar": {
             "outlinewidth": 0,
             "ticks": ""
            },
            "colorscale": [
             [
              0,
              "#0d0887"
             ],
             [
              0.1111111111111111,
              "#46039f"
             ],
             [
              0.2222222222222222,
              "#7201a8"
             ],
             [
              0.3333333333333333,
              "#9c179e"
             ],
             [
              0.4444444444444444,
              "#bd3786"
             ],
             [
              0.5555555555555556,
              "#d8576b"
             ],
             [
              0.6666666666666666,
              "#ed7953"
             ],
             [
              0.7777777777777778,
              "#fb9f3a"
             ],
             [
              0.8888888888888888,
              "#fdca26"
             ],
             [
              1,
              "#f0f921"
             ]
            ],
            "type": "histogram2dcontour"
           }
          ],
          "mesh3d": [
           {
            "colorbar": {
             "outlinewidth": 0,
             "ticks": ""
            },
            "type": "mesh3d"
           }
          ],
          "parcoords": [
           {
            "line": {
             "colorbar": {
              "outlinewidth": 0,
              "ticks": ""
             }
            },
            "type": "parcoords"
           }
          ],
          "pie": [
           {
            "automargin": true,
            "type": "pie"
           }
          ],
          "scatter": [
           {
            "marker": {
             "colorbar": {
              "outlinewidth": 0,
              "ticks": ""
             }
            },
            "type": "scatter"
           }
          ],
          "scatter3d": [
           {
            "line": {
             "colorbar": {
              "outlinewidth": 0,
              "ticks": ""
             }
            },
            "marker": {
             "colorbar": {
              "outlinewidth": 0,
              "ticks": ""
             }
            },
            "type": "scatter3d"
           }
          ],
          "scattercarpet": [
           {
            "marker": {
             "colorbar": {
              "outlinewidth": 0,
              "ticks": ""
             }
            },
            "type": "scattercarpet"
           }
          ],
          "scattergeo": [
           {
            "marker": {
             "colorbar": {
              "outlinewidth": 0,
              "ticks": ""
             }
            },
            "type": "scattergeo"
           }
          ],
          "scattergl": [
           {
            "marker": {
             "colorbar": {
              "outlinewidth": 0,
              "ticks": ""
             }
            },
            "type": "scattergl"
           }
          ],
          "scattermapbox": [
           {
            "marker": {
             "colorbar": {
              "outlinewidth": 0,
              "ticks": ""
             }
            },
            "type": "scattermapbox"
           }
          ],
          "scatterpolar": [
           {
            "marker": {
             "colorbar": {
              "outlinewidth": 0,
              "ticks": ""
             }
            },
            "type": "scatterpolar"
           }
          ],
          "scatterpolargl": [
           {
            "marker": {
             "colorbar": {
              "outlinewidth": 0,
              "ticks": ""
             }
            },
            "type": "scatterpolargl"
           }
          ],
          "scatterternary": [
           {
            "marker": {
             "colorbar": {
              "outlinewidth": 0,
              "ticks": ""
             }
            },
            "type": "scatterternary"
           }
          ],
          "surface": [
           {
            "colorbar": {
             "outlinewidth": 0,
             "ticks": ""
            },
            "colorscale": [
             [
              0,
              "#0d0887"
             ],
             [
              0.1111111111111111,
              "#46039f"
             ],
             [
              0.2222222222222222,
              "#7201a8"
             ],
             [
              0.3333333333333333,
              "#9c179e"
             ],
             [
              0.4444444444444444,
              "#bd3786"
             ],
             [
              0.5555555555555556,
              "#d8576b"
             ],
             [
              0.6666666666666666,
              "#ed7953"
             ],
             [
              0.7777777777777778,
              "#fb9f3a"
             ],
             [
              0.8888888888888888,
              "#fdca26"
             ],
             [
              1,
              "#f0f921"
             ]
            ],
            "type": "surface"
           }
          ],
          "table": [
           {
            "cells": {
             "fill": {
              "color": "#EBF0F8"
             },
             "line": {
              "color": "white"
             }
            },
            "header": {
             "fill": {
              "color": "#C8D4E3"
             },
             "line": {
              "color": "white"
             }
            },
            "type": "table"
           }
          ]
         },
         "layout": {
          "annotationdefaults": {
           "arrowcolor": "#2a3f5f",
           "arrowhead": 0,
           "arrowwidth": 1
          },
          "autotypenumbers": "strict",
          "coloraxis": {
           "colorbar": {
            "outlinewidth": 0,
            "ticks": ""
           }
          },
          "colorscale": {
           "diverging": [
            [
             0,
             "#8e0152"
            ],
            [
             0.1,
             "#c51b7d"
            ],
            [
             0.2,
             "#de77ae"
            ],
            [
             0.3,
             "#f1b6da"
            ],
            [
             0.4,
             "#fde0ef"
            ],
            [
             0.5,
             "#f7f7f7"
            ],
            [
             0.6,
             "#e6f5d0"
            ],
            [
             0.7,
             "#b8e186"
            ],
            [
             0.8,
             "#7fbc41"
            ],
            [
             0.9,
             "#4d9221"
            ],
            [
             1,
             "#276419"
            ]
           ],
           "sequential": [
            [
             0,
             "#0d0887"
            ],
            [
             0.1111111111111111,
             "#46039f"
            ],
            [
             0.2222222222222222,
             "#7201a8"
            ],
            [
             0.3333333333333333,
             "#9c179e"
            ],
            [
             0.4444444444444444,
             "#bd3786"
            ],
            [
             0.5555555555555556,
             "#d8576b"
            ],
            [
             0.6666666666666666,
             "#ed7953"
            ],
            [
             0.7777777777777778,
             "#fb9f3a"
            ],
            [
             0.8888888888888888,
             "#fdca26"
            ],
            [
             1,
             "#f0f921"
            ]
           ],
           "sequentialminus": [
            [
             0,
             "#0d0887"
            ],
            [
             0.1111111111111111,
             "#46039f"
            ],
            [
             0.2222222222222222,
             "#7201a8"
            ],
            [
             0.3333333333333333,
             "#9c179e"
            ],
            [
             0.4444444444444444,
             "#bd3786"
            ],
            [
             0.5555555555555556,
             "#d8576b"
            ],
            [
             0.6666666666666666,
             "#ed7953"
            ],
            [
             0.7777777777777778,
             "#fb9f3a"
            ],
            [
             0.8888888888888888,
             "#fdca26"
            ],
            [
             1,
             "#f0f921"
            ]
           ]
          },
          "colorway": [
           "#636efa",
           "#EF553B",
           "#00cc96",
           "#ab63fa",
           "#FFA15A",
           "#19d3f3",
           "#FF6692",
           "#B6E880",
           "#FF97FF",
           "#FECB52"
          ],
          "font": {
           "color": "#2a3f5f"
          },
          "geo": {
           "bgcolor": "white",
           "lakecolor": "white",
           "landcolor": "#E5ECF6",
           "showlakes": true,
           "showland": true,
           "subunitcolor": "white"
          },
          "hoverlabel": {
           "align": "left"
          },
          "hovermode": "closest",
          "mapbox": {
           "style": "light"
          },
          "paper_bgcolor": "white",
          "plot_bgcolor": "#E5ECF6",
          "polar": {
           "angularaxis": {
            "gridcolor": "white",
            "linecolor": "white",
            "ticks": ""
           },
           "bgcolor": "#E5ECF6",
           "radialaxis": {
            "gridcolor": "white",
            "linecolor": "white",
            "ticks": ""
           }
          },
          "scene": {
           "xaxis": {
            "backgroundcolor": "#E5ECF6",
            "gridcolor": "white",
            "gridwidth": 2,
            "linecolor": "white",
            "showbackground": true,
            "ticks": "",
            "zerolinecolor": "white"
           },
           "yaxis": {
            "backgroundcolor": "#E5ECF6",
            "gridcolor": "white",
            "gridwidth": 2,
            "linecolor": "white",
            "showbackground": true,
            "ticks": "",
            "zerolinecolor": "white"
           },
           "zaxis": {
            "backgroundcolor": "#E5ECF6",
            "gridcolor": "white",
            "gridwidth": 2,
            "linecolor": "white",
            "showbackground": true,
            "ticks": "",
            "zerolinecolor": "white"
           }
          },
          "shapedefaults": {
           "line": {
            "color": "#2a3f5f"
           }
          },
          "ternary": {
           "aaxis": {
            "gridcolor": "white",
            "linecolor": "white",
            "ticks": ""
           },
           "baxis": {
            "gridcolor": "white",
            "linecolor": "white",
            "ticks": ""
           },
           "bgcolor": "#E5ECF6",
           "caxis": {
            "gridcolor": "white",
            "linecolor": "white",
            "ticks": ""
           }
          },
          "title": {
           "x": 0.05
          },
          "xaxis": {
           "automargin": true,
           "gridcolor": "white",
           "linecolor": "white",
           "ticks": "",
           "title": {
            "standoff": 15
           },
           "zerolinecolor": "white",
           "zerolinewidth": 2
          },
          "yaxis": {
           "automargin": true,
           "gridcolor": "white",
           "linecolor": "white",
           "ticks": "",
           "title": {
            "standoff": 15
           },
           "zerolinecolor": "white",
           "zerolinewidth": 2
          }
         }
        },
        "width": 800,
        "xaxis": {
         "anchor": "y",
         "autorange": true,
         "domain": [
          0,
          0.49
         ],
         "gridcolor": "rgba(0, 0, 0, 0)",
         "range": [
          -2,
          2
         ],
         "tickvals": [],
         "type": "linear",
         "zeroline": false
        },
        "xaxis2": {
         "anchor": "y2",
         "autorange": true,
         "domain": [
          0.51,
          1
         ],
         "gridcolor": "rgba(0, 0, 0, 0)",
         "range": [
          -2,
          2
         ],
         "tickvals": [],
         "type": "linear",
         "zeroline": false
        },
        "yaxis": {
         "anchor": "x",
         "domain": [
          0,
          1
         ],
         "gridcolor": "rgba(0, 0, 0, 0)",
         "range": [
          0,
          1
         ],
         "tickvals": [],
         "type": "linear",
         "zeroline": false
        },
        "yaxis2": {
         "anchor": "x2",
         "domain": [
          0,
          1
         ],
         "gridcolor": "rgba(0, 0, 0, 0)",
         "range": [
          0,
          1
         ],
         "tickvals": [],
         "type": "linear",
         "zeroline": false
        }
       }
      },
      "image/png": "[encoded data removed]",
      "text/html": [
       "<div>                            <div id=\"4dffbfed-eb05-4ee7-9bde-8ed76b3370b6\" class=\"plotly-graph-div\" style=\"height:400px; width:800px;\"></div>            <script type=\"text/javascript\">                require([\"plotly\"], function(Plotly) {                    window.PLOTLYENV=window.PLOTLYENV || {};                                    if (document.getElementById(\"4dffbfed-eb05-4ee7-9bde-8ed76b3370b6\")) {                    Plotly.newPlot(                        \"4dffbfed-eb05-4ee7-9bde-8ed76b3370b6\",                        [{\"fill\":\"tonexty\",\"fillcolor\":\"rgba(255,0,0,.5)\",\"line\":{\"width\":0},\"mode\":\"lines\",\"showlegend\":false,\"x\":[-2.0,-1.5555555555555556,-1.1111111111111112,-0.6666666666666667,-0.22222222222222232,0.22222222222222232,0.6666666666666665,1.1111111111111107,1.5555555555555554,2.0],\"y\":[0.4127377375000001,0.41066723250000003,0.408616695,0.40658532249999996,0.40444599000000003,0.40229806,0.4001327774999999,0.3979645725,0.39581828249999995,0.39364850749999997],\"type\":\"scatter\",\"xaxis\":\"x\",\"yaxis\":\"y\"},{\"fill\":\"tonexty\",\"fillcolor\":\"rgba(0,255,0,.5)\",\"line\":{\"width\":0},\"mode\":\"lines\",\"showlegend\":false,\"x\":[-2.0,-1.5555555555555556,-1.1111111111111112,-0.6666666666666667,-0.22222222222222232,0.22222222222222232,0.6666666666666665,1.1111111111111107,1.5555555555555554,2.0],\"y\":[0.8801705800000001,0.8819695325000001,0.8838172199999998,0.8856019024999999,0.8873594600000001,0.8891529575000001,0.8908346649999999,0.8925541100000001,0.8942354124999999,0.89589758],\"type\":\"scatter\",\"xaxis\":\"x\",\"yaxis\":\"y\"},{\"fill\":\"tonexty\",\"fillcolor\":\"rgba(0,0,255,.5)\",\"line\":{\"width\":0},\"mode\":\"lines\",\"showlegend\":false,\"x\":[-2.0,-1.5555555555555556,-1.1111111111111112,-0.6666666666666667,-0.22222222222222232,0.22222222222222232,0.6666666666666665,1.1111111111111107,1.5555555555555554,2.0],\"y\":[1.0000000000000002,1.0,0.9999999999999998,0.9999999999999999,1.0,1.0000000000000002,0.9999999999999998,1.0,0.9999999999999999,1.0],\"type\":\"scatter\",\"xaxis\":\"x\",\"yaxis\":\"y\"},{\"fill\":\"toself\",\"fillcolor\":\"rgba(255,255,255,.3)\",\"line\":{\"width\":0},\"mode\":\"lines\",\"showlegend\":false,\"x\":[-2.0,-1.5555555555555556,-1.1111111111111112,-0.6666666666666667,-0.22222222222222232,0.22222222222222232,0.6666666666666665,1.1111111111111107,1.5555555555555554,2.0,2.0,1.5555555555555554,1.1111111111111107,0.6666666666666665,0.22222222222222232,-0.22222222222222232,-0.6666666666666667,-1.1111111111111112,-1.5555555555555556,-2.0],\"y\":[0.4654327500000001,0.46230224999999997,0.4595302499999999,0.456541,0.4543420000000001,0.45186200000000004,0.4508899999999999,0.44884475000000007,0.4466319999999999,0.44477199999999995,0.33613,0.33769374999999996,0.34070275,0.34277899999999983,0.34480525000000006,0.34540975,0.347566,0.35026925,0.35168,0.3534815000000001],\"type\":\"scatter\",\"xaxis\":\"x\",\"yaxis\":\"y\"},{\"fill\":\"toself\",\"fillcolor\":\"rgba(255,255,255,.3)\",\"line\":{\"width\":0},\"mode\":\"lines\",\"showlegend\":false,\"x\":[-2.0,-1.5555555555555556,-1.1111111111111112,-0.6666666666666667,-0.22222222222222232,0.22222222222222232,0.6666666666666665,1.1111111111111107,1.5555555555555554,2.0,2.0,1.5555555555555554,1.1111111111111107,0.6666666666666665,0.22222222222222232,-0.22222222222222232,-0.6666666666666667,-1.1111111111111112,-1.5555555555555556,-2.0],\"y\":[0.9288182375000001,0.9287579825000001,0.9304671949999999,0.9316755724999999,0.9334872400000002,0.9358748100000002,0.9388547774999998,0.9409288225,0.9440487824999999,0.9472592575,0.8515365075,0.8512330324999999,0.8503563225,0.8494087774999999,0.8489065600000001,0.8471319900000001,0.8456630725,0.8439241949999998,0.8417464825000001,0.8393132375000001],\"type\":\"scatter\",\"xaxis\":\"x\",\"yaxis\":\"y\"},{\"fill\":\"toself\",\"fillcolor\":\"rgba(255,255,255,.3)\",\"line\":{\"width\":0},\"mode\":\"lines\",\"showlegend\":false,\"x\":[-2.0,-1.5555555555555556,-1.1111111111111112,-0.6666666666666667,-0.22222222222222232,0.22222222222222232,0.6666666666666665,1.1111111111111107,1.5555555555555554,2.0,2.0,1.5555555555555554,1.1111111111111107,0.6666666666666665,0.22222222222222232,-0.22222222222222232,-0.6666666666666667,-1.1111111111111112,-1.5555555555555556,-2.0],\"y\":[0.4312100000000001,0.428785,0.42649499999999996,0.424545,0.42225250000000003,0.42039750000000004,0.4178024999999999,0.4162325,0.41415499999999994,0.4121125,0.3765575,0.3789275,0.3813375,0.3836549999999999,0.38590750000000007,0.388095,0.39050999999999997,0.3920874999999999,0.3937075,0.39592250000000007],\"type\":\"scatter\",\"xaxis\":\"x\",\"yaxis\":\"y\"},{\"fill\":\"toself\",\"fillcolor\":\"rgba(255,255,255,.3)\",\"line\":{\"width\":0},\"mode\":\"lines\",\"showlegend\":false,\"x\":[-2.0,-1.5555555555555556,-1.1111111111111112,-0.6666666666666667,-0.22222222222222232,0.22222222222222232,0.6666666666666665,1.1111111111111107,1.5555555555555554,2.0,2.0,1.5555555555555554,1.1111111111111107,0.6666666666666665,0.22222222222222232,-0.22222222222222232,-0.6666666666666667,-1.1111111111111112,-1.5555555555555556,-2.0],\"y\":[0.8938802375000002,0.8951747325,0.8969041949999998,0.8985053224999999,0.9001659900000001,0.9019305600000002,0.9043077774999998,0.9065595725000001,0.9087557824999999,0.9109010075,0.8793560075,0.8780632824999999,0.8767970725,0.8754877774999998,0.8740455600000001,0.8724459900000001,0.8705953224999999,0.8689491949999999,0.8668372325000001,0.8644877375000002],\"type\":\"scatter\",\"xaxis\":\"x\",\"yaxis\":\"y\"},{\"fill\":\"tonexty\",\"fillcolor\":\"rgba(255,0,0,.5)\",\"line\":{\"width\":0},\"mode\":\"lines\",\"showlegend\":false,\"x\":[-2.0,-1.5555555555555556,-1.1111111111111112,-0.6666666666666667,-0.22222222222222232,0.22222222222222232,0.6666666666666665,1.1111111111111107,1.5555555555555554,2.0],\"y\":[0.3238843275,0.32591609,0.3279439,0.32997141750000003,0.3320171625,0.33402559249999997,0.3360397075,0.33814082999999995,0.3402461025,0.3422540625],\"type\":\"scatter\",\"xaxis\":\"x2\",\"yaxis\":\"y2\"},{\"fill\":\"tonexty\",\"fillcolor\":\"rgba(0,255,0,.5)\",\"line\":{\"width\":0},\"mode\":\"lines\",\"showlegend\":false,\"x\":[-2.0,-1.5555555555555556,-1.1111111111111112,-0.6666666666666667,-0.22222222222222232,0.22222222222222232,0.6666666666666665,1.1111111111111107,1.5555555555555554,2.0],\"y\":[0.828890865,0.829338925,0.82978781,0.83022375,0.830699005,0.8311079925,0.83155519,0.8320227899999999,0.8324682425,0.8328586099999999],\"type\":\"scatter\",\"xaxis\":\"x2\",\"yaxis\":\"y2\"},{\"fill\":\"tonexty\",\"fillcolor\":\"rgba(0,0,255,.5)\",\"line\":{\"width\":0},\"mode\":\"lines\",\"showlegend\":false,\"x\":[-2.0,-1.5555555555555556,-1.1111111111111112,-0.6666666666666667,-0.22222222222222232,0.22222222222222232,0.6666666666666665,1.1111111111111107,1.5555555555555554,2.0],\"y\":[1.0,1.0,1.0,1.0,1.0,1.0,1.0,0.9999999999999999,1.0,1.0],\"type\":\"scatter\",\"xaxis\":\"x2\",\"yaxis\":\"y2\"},{\"fill\":\"toself\",\"fillcolor\":\"rgba(255,255,255,.3)\",\"line\":{\"width\":0},\"mode\":\"lines\",\"showlegend\":false,\"x\":[-2.0,-1.5555555555555556,-1.1111111111111112,-0.6666666666666667,-0.22222222222222232,0.22222222222222232,0.6666666666666665,1.1111111111111107,1.5555555555555554,2.0,2.0,1.5555555555555554,1.1111111111111107,0.6666666666666665,0.22222222222222232,-0.22222222222222232,-0.6666666666666667,-1.1111111111111112,-1.5555555555555556,-2.0],\"y\":[0.37183025000000003,0.373842,0.37548525000000005,0.37763325000000003,0.38039025,0.38238075000000005,0.3846925,0.38710049999999996,0.38995475000000007,0.39220125,0.28724700000000003,0.2862565,0.28411775,0.281659,0.28007974999999996,0.27814550000000005,0.27656975,0.27513875000000004,0.2733455,0.27066900000000005],\"type\":\"scatter\",\"xaxis\":\"x2\",\"yaxis\":\"y2\"},{\"fill\":\"toself\",\"fillcolor\":\"rgba(255,255,255,.3)\",\"line\":{\"width\":0},\"mode\":\"lines\",\"showlegend\":false,\"x\":[-2.0,-1.5555555555555556,-1.1111111111111112,-0.6666666666666667,-0.22222222222222232,0.22222222222222232,0.6666666666666665,1.1111111111111107,1.5555555555555554,2.0,2.0,1.5555555555555554,1.1111111111111107,0.6666666666666665,0.22222222222222232,-0.22222222222222232,-0.6666666666666667,-1.1111111111111112,-1.5555555555555556,-2.0],\"y\":[0.8725955775,0.87226759,0.8725854,0.8731621675000001,0.8734991625000001,0.8750668425,0.8754102075,0.8764343299999998,0.8783873525,0.8789665624999999,0.7937233125,0.7945051025,0.79460658,0.7941894575,0.7940210925000001,0.7933169125000001,0.7932911675000002,0.7919939,0.79126134,0.7898238275],\"type\":\"scatter\",\"xaxis\":\"x2\",\"yaxis\":\"y2\"},{\"fill\":\"toself\",\"fillcolor\":\"rgba(255,255,255,.3)\",\"line\":{\"width\":0},\"mode\":\"lines\",\"showlegend\":false,\"x\":[-2.0,-1.5555555555555556,-1.1111111111111112,-0.6666666666666667,-0.22222222222222232,0.22222222222222232,0.6666666666666665,1.1111111111111107,1.5555555555555554,2.0,2.0,1.5555555555555554,1.1111111111111107,0.6666666666666665,0.22222222222222232,-0.22222222222222232,-0.6666666666666667,-1.1111111111111112,-1.5555555555555556,-2.0],\"y\":[0.34092500000000003,0.342975,0.3450225,0.347105,0.34907000000000005,0.35123,0.353045,0.35542749999999995,0.3576625,0.3601225,0.32581,0.323955,0.32212499999999994,0.3202675,0.31831,0.31612250000000003,0.3142775,0.3118175,0.30962,0.3075925],\"type\":\"scatter\",\"xaxis\":\"x2\",\"yaxis\":\"y2\"},{\"fill\":\"toself\",\"fillcolor\":\"rgba(255,255,255,.3)\",\"line\":{\"width\":0},\"mode\":\"lines\",\"showlegend\":false,\"x\":[-2.0,-1.5555555555555556,-1.1111111111111112,-0.6666666666666667,-0.22222222222222232,0.22222222222222232,0.6666666666666665,1.1111111111111107,1.5555555555555554,2.0,2.0,1.5555555555555554,1.1111111111111107,0.6666666666666665,0.22222222222222232,-0.22222222222222232,-0.6666666666666667,-1.1111111111111112,-1.5555555555555556,-2.0],\"y\":[0.8424993275,0.8430060899999999,0.8432389,0.8438789175000001,0.8441096625000001,0.8445780925,0.8449872075,0.8453183299999999,0.8463611025,0.8470065625,0.8172315625,0.8169986025,0.8167583299999999,0.8166372075,0.8161005925,0.8159471625000001,0.8154914175000001,0.8147913999999999,0.81428359,0.8131743275],\"type\":\"scatter\",\"xaxis\":\"x2\",\"yaxis\":\"y2\"}],                        {\"template\":{\"data\":{\"bar\":[{\"error_x\":{\"color\":\"#2a3f5f\"},\"error_y\":{\"color\":\"#2a3f5f\"},\"marker\":{\"line\":{\"color\":\"#E5ECF6\",\"width\":0.5},\"pattern\":{\"fillmode\":\"overlay\",\"size\":10,\"solidity\":0.2}},\"type\":\"bar\"}],\"barpolar\":[{\"marker\":{\"line\":{\"color\":\"#E5ECF6\",\"width\":0.5},\"pattern\":{\"fillmode\":\"overlay\",\"size\":10,\"solidity\":0.2}},\"type\":\"barpolar\"}],\"carpet\":[{\"aaxis\":{\"endlinecolor\":\"#2a3f5f\",\"gridcolor\":\"white\",\"linecolor\":\"white\",\"minorgridcolor\":\"white\",\"startlinecolor\":\"#2a3f5f\"},\"baxis\":{\"endlinecolor\":\"#2a3f5f\",\"gridcolor\":\"white\",\"linecolor\":\"white\",\"minorgridcolor\":\"white\",\"startlinecolor\":\"#2a3f5f\"},\"type\":\"carpet\"}],\"choropleth\":[{\"colorbar\":{\"outlinewidth\":0,\"ticks\":\"\"},\"type\":\"choropleth\"}],\"contour\":[{\"colorbar\":{\"outlinewidth\":0,\"ticks\":\"\"},\"colorscale\":[[0.0,\"#0d0887\"],[0.1111111111111111,\"#46039f\"],[0.2222222222222222,\"#7201a8\"],[0.3333333333333333,\"#9c179e\"],[0.4444444444444444,\"#bd3786\"],[0.5555555555555556,\"#d8576b\"],[0.6666666666666666,\"#ed7953\"],[0.7777777777777778,\"#fb9f3a\"],[0.8888888888888888,\"#fdca26\"],[1.0,\"#f0f921\"]],\"type\":\"contour\"}],\"contourcarpet\":[{\"colorbar\":{\"outlinewidth\":0,\"ticks\":\"\"},\"type\":\"contourcarpet\"}],\"heatmap\":[{\"colorbar\":{\"outlinewidth\":0,\"ticks\":\"\"},\"colorscale\":[[0.0,\"#0d0887\"],[0.1111111111111111,\"#46039f\"],[0.2222222222222222,\"#7201a8\"],[0.3333333333333333,\"#9c179e\"],[0.4444444444444444,\"#bd3786\"],[0.5555555555555556,\"#d8576b\"],[0.6666666666666666,\"#ed7953\"],[0.7777777777777778,\"#fb9f3a\"],[0.8888888888888888,\"#fdca26\"],[1.0,\"#f0f921\"]],\"type\":\"heatmap\"}],\"heatmapgl\":[{\"colorbar\":{\"outlinewidth\":0,\"ticks\":\"\"},\"colorscale\":[[0.0,\"#0d0887\"],[0.1111111111111111,\"#46039f\"],[0.2222222222222222,\"#7201a8\"],[0.3333333333333333,\"#9c179e\"],[0.4444444444444444,\"#bd3786\"],[0.5555555555555556,\"#d8576b\"],[0.6666666666666666,\"#ed7953\"],[0.7777777777777778,\"#fb9f3a\"],[0.8888888888888888,\"#fdca26\"],[1.0,\"#f0f921\"]],\"type\":\"heatmapgl\"}],\"histogram\":[{\"marker\":{\"pattern\":{\"fillmode\":\"overlay\",\"size\":10,\"solidity\":0.2}},\"type\":\"histogram\"}],\"histogram2d\":[{\"colorbar\":{\"outlinewidth\":0,\"ticks\":\"\"},\"colorscale\":[[0.0,\"#0d0887\"],[0.1111111111111111,\"#46039f\"],[0.2222222222222222,\"#7201a8\"],[0.3333333333333333,\"#9c179e\"],[0.4444444444444444,\"#bd3786\"],[0.5555555555555556,\"#d8576b\"],[0.6666666666666666,\"#ed7953\"],[0.7777777777777778,\"#fb9f3a\"],[0.8888888888888888,\"#fdca26\"],[1.0,\"#f0f921\"]],\"type\":\"histogram2d\"}],\"histogram2dcontour\":[{\"colorbar\":{\"outlinewidth\":0,\"ticks\":\"\"},\"colorscale\":[[0.0,\"#0d0887\"],[0.1111111111111111,\"#46039f\"],[0.2222222222222222,\"#7201a8\"],[0.3333333333333333,\"#9c179e\"],[0.4444444444444444,\"#bd3786\"],[0.5555555555555556,\"#d8576b\"],[0.6666666666666666,\"#ed7953\"],[0.7777777777777778,\"#fb9f3a\"],[0.8888888888888888,\"#fdca26\"],[1.0,\"#f0f921\"]],\"type\":\"histogram2dcontour\"}],\"mesh3d\":[{\"colorbar\":{\"outlinewidth\":0,\"ticks\":\"\"},\"type\":\"mesh3d\"}],\"parcoords\":[{\"line\":{\"colorbar\":{\"outlinewidth\":0,\"ticks\":\"\"}},\"type\":\"parcoords\"}],\"pie\":[{\"automargin\":true,\"type\":\"pie\"}],\"scatter\":[{\"marker\":{\"colorbar\":{\"outlinewidth\":0,\"ticks\":\"\"}},\"type\":\"scatter\"}],\"scatter3d\":[{\"line\":{\"colorbar\":{\"outlinewidth\":0,\"ticks\":\"\"}},\"marker\":{\"colorbar\":{\"outlinewidth\":0,\"ticks\":\"\"}},\"type\":\"scatter3d\"}],\"scattercarpet\":[{\"marker\":{\"colorbar\":{\"outlinewidth\":0,\"ticks\":\"\"}},\"type\":\"scattercarpet\"}],\"scattergeo\":[{\"marker\":{\"colorbar\":{\"outlinewidth\":0,\"ticks\":\"\"}},\"type\":\"scattergeo\"}],\"scattergl\":[{\"marker\":{\"colorbar\":{\"outlinewidth\":0,\"ticks\":\"\"}},\"type\":\"scattergl\"}],\"scattermapbox\":[{\"marker\":{\"colorbar\":{\"outlinewidth\":0,\"ticks\":\"\"}},\"type\":\"scattermapbox\"}],\"scatterpolar\":[{\"marker\":{\"colorbar\":{\"outlinewidth\":0,\"ticks\":\"\"}},\"type\":\"scatterpolar\"}],\"scatterpolargl\":[{\"marker\":{\"colorbar\":{\"outlinewidth\":0,\"ticks\":\"\"}},\"type\":\"scatterpolargl\"}],\"scatterternary\":[{\"marker\":{\"colorbar\":{\"outlinewidth\":0,\"ticks\":\"\"}},\"type\":\"scatterternary\"}],\"surface\":[{\"colorbar\":{\"outlinewidth\":0,\"ticks\":\"\"},\"colorscale\":[[0.0,\"#0d0887\"],[0.1111111111111111,\"#46039f\"],[0.2222222222222222,\"#7201a8\"],[0.3333333333333333,\"#9c179e\"],[0.4444444444444444,\"#bd3786\"],[0.5555555555555556,\"#d8576b\"],[0.6666666666666666,\"#ed7953\"],[0.7777777777777778,\"#fb9f3a\"],[0.8888888888888888,\"#fdca26\"],[1.0,\"#f0f921\"]],\"type\":\"surface\"}],\"table\":[{\"cells\":{\"fill\":{\"color\":\"#EBF0F8\"},\"line\":{\"color\":\"white\"}},\"header\":{\"fill\":{\"color\":\"#C8D4E3\"},\"line\":{\"color\":\"white\"}},\"type\":\"table\"}]},\"layout\":{\"annotationdefaults\":{\"arrowcolor\":\"#2a3f5f\",\"arrowhead\":0,\"arrowwidth\":1},\"autotypenumbers\":\"strict\",\"coloraxis\":{\"colorbar\":{\"outlinewidth\":0,\"ticks\":\"\"}},\"colorscale\":{\"diverging\":[[0,\"#8e0152\"],[0.1,\"#c51b7d\"],[0.2,\"#de77ae\"],[0.3,\"#f1b6da\"],[0.4,\"#fde0ef\"],[0.5,\"#f7f7f7\"],[0.6,\"#e6f5d0\"],[0.7,\"#b8e186\"],[0.8,\"#7fbc41\"],[0.9,\"#4d9221\"],[1,\"#276419\"]],\"sequential\":[[0.0,\"#0d0887\"],[0.1111111111111111,\"#46039f\"],[0.2222222222222222,\"#7201a8\"],[0.3333333333333333,\"#9c179e\"],[0.4444444444444444,\"#bd3786\"],[0.5555555555555556,\"#d8576b\"],[0.6666666666666666,\"#ed7953\"],[0.7777777777777778,\"#fb9f3a\"],[0.8888888888888888,\"#fdca26\"],[1.0,\"#f0f921\"]],\"sequentialminus\":[[0.0,\"#0d0887\"],[0.1111111111111111,\"#46039f\"],[0.2222222222222222,\"#7201a8\"],[0.3333333333333333,\"#9c179e\"],[0.4444444444444444,\"#bd3786\"],[0.5555555555555556,\"#d8576b\"],[0.6666666666666666,\"#ed7953\"],[0.7777777777777778,\"#fb9f3a\"],[0.8888888888888888,\"#fdca26\"],[1.0,\"#f0f921\"]]},\"colorway\":[\"#636efa\",\"#EF553B\",\"#00cc96\",\"#ab63fa\",\"#FFA15A\",\"#19d3f3\",\"#FF6692\",\"#B6E880\",\"#FF97FF\",\"#FECB52\"],\"font\":{\"color\":\"#2a3f5f\"},\"geo\":{\"bgcolor\":\"white\",\"lakecolor\":\"white\",\"landcolor\":\"#E5ECF6\",\"showlakes\":true,\"showland\":true,\"subunitcolor\":\"white\"},\"hoverlabel\":{\"align\":\"left\"},\"hovermode\":\"closest\",\"mapbox\":{\"style\":\"light\"},\"paper_bgcolor\":\"white\",\"plot_bgcolor\":\"#E5ECF6\",\"polar\":{\"angularaxis\":{\"gridcolor\":\"white\",\"linecolor\":\"white\",\"ticks\":\"\"},\"bgcolor\":\"#E5ECF6\",\"radialaxis\":{\"gridcolor\":\"white\",\"linecolor\":\"white\",\"ticks\":\"\"}},\"scene\":{\"xaxis\":{\"backgroundcolor\":\"#E5ECF6\",\"gridcolor\":\"white\",\"gridwidth\":2,\"linecolor\":\"white\",\"showbackground\":true,\"ticks\":\"\",\"zerolinecolor\":\"white\"},\"yaxis\":{\"backgroundcolor\":\"#E5ECF6\",\"gridcolor\":\"white\",\"gridwidth\":2,\"linecolor\":\"white\",\"showbackground\":true,\"ticks\":\"\",\"zerolinecolor\":\"white\"},\"zaxis\":{\"backgroundcolor\":\"#E5ECF6\",\"gridcolor\":\"white\",\"gridwidth\":2,\"linecolor\":\"white\",\"showbackground\":true,\"ticks\":\"\",\"zerolinecolor\":\"white\"}},\"shapedefaults\":{\"line\":{\"color\":\"#2a3f5f\"}},\"ternary\":{\"aaxis\":{\"gridcolor\":\"white\",\"linecolor\":\"white\",\"ticks\":\"\"},\"baxis\":{\"gridcolor\":\"white\",\"linecolor\":\"white\",\"ticks\":\"\"},\"bgcolor\":\"#E5ECF6\",\"caxis\":{\"gridcolor\":\"white\",\"linecolor\":\"white\",\"ticks\":\"\"}},\"title\":{\"x\":0.05},\"xaxis\":{\"automargin\":true,\"gridcolor\":\"white\",\"linecolor\":\"white\",\"ticks\":\"\",\"title\":{\"standoff\":15},\"zerolinecolor\":\"white\",\"zerolinewidth\":2},\"yaxis\":{\"automargin\":true,\"gridcolor\":\"white\",\"linecolor\":\"white\",\"ticks\":\"\",\"title\":{\"standoff\":15},\"zerolinecolor\":\"white\",\"zerolinewidth\":2}}},\"xaxis\":{\"anchor\":\"y\",\"domain\":[0.0,0.49],\"tickvals\":[],\"zeroline\":false,\"gridcolor\":\"rgba(0,0,0,0)\"},\"yaxis\":{\"anchor\":\"x\",\"domain\":[0.0,1.0],\"tickvals\":[],\"range\":[0,1],\"zeroline\":false,\"gridcolor\":\"rgba(0,0,0,0)\"},\"xaxis2\":{\"anchor\":\"y2\",\"domain\":[0.51,1.0],\"tickvals\":[],\"zeroline\":false,\"gridcolor\":\"rgba(0,0,0,0)\"},\"yaxis2\":{\"anchor\":\"x2\",\"domain\":[0.0,1.0],\"tickvals\":[],\"range\":[0,1],\"zeroline\":false,\"gridcolor\":\"rgba(0,0,0,0)\"},\"annotations\":[{\"font\":{\"size\":16},\"showarrow\":false,\"text\":\"Geringes Einkommen\",\"x\":0,\"xanchor\":\"left\",\"xref\":\"paper\",\"y\":1.0,\"yanchor\":\"bottom\",\"yref\":\"paper\"},{\"font\":{\"size\":16},\"showarrow\":false,\"text\":\"Hohes Einkommen\",\"x\":0.51,\"xanchor\":\"left\",\"xref\":\"paper\",\"y\":1.0,\"yanchor\":\"bottom\",\"yref\":\"paper\"},{\"font\":{\"color\":\"rgba(0,0,0,1)\",\"size\":14},\"showarrow\":false,\"text\":\"kleine Motoren\",\"x\":0.0,\"xanchor\":\"center\",\"xref\":\"x\",\"y\":0.35329151774999995,\"yref\":\"y\"},{\"font\":{\"color\":\"rgba(0,0,0,1)\",\"size\":14},\"showarrow\":false,\"text\":\"mittlere Motoren\",\"x\":0.0,\"xanchor\":\"center\",\"xref\":\"x\",\"y\":0.838159342,\"yref\":\"y\"},{\"font\":{\"color\":\"rgba(0,0,0,1)\",\"size\":14},\"showarrow\":false,\"text\":\"gro\\u00dfe Motoren\",\"x\":0.0,\"xanchor\":\"center\",\"xref\":\"x\",\"y\":0.95,\"yref\":\"y\"},{\"arrowcolor\":\"rgba(0,0,0,.5)\",\"arrowhead\":2,\"arrowsize\":2,\"ax\":-1.5,\"axref\":\"x\",\"ay\":0.1,\"ayref\":\"y\",\"text\":\"\",\"x\":1.5,\"xref\":\"x\",\"y\":0.1,\"yref\":\"y\"},{\"font\":{\"color\":\"rgba(0,0,0,.7)\",\"size\":16},\"showarrow\":false,\"text\":\"Bergland\",\"x\":2,\"xanchor\":\"right\",\"xref\":\"x\",\"y\":0.05,\"yref\":\"y\"},{\"font\":{\"color\":\"rgba(0,0,0,.7)\",\"size\":16},\"showarrow\":false,\"text\":\"Flachland\",\"x\":-2,\"xanchor\":\"left\",\"xref\":\"x\",\"y\":0.05,\"yref\":\"y\"},{\"font\":{\"color\":\"rgba(0,0,0,1)\",\"size\":14},\"showarrow\":false,\"text\":\"kleine Motoren\",\"x\":0.0,\"xanchor\":\"center\",\"xref\":\"x2\",\"y\":0.28304391925,\"yref\":\"y2\"},{\"font\":{\"color\":\"rgba(0,0,0,1)\",\"size\":14},\"showarrow\":false,\"text\":\"mittlere Motoren\",\"x\":0.0,\"xanchor\":\"center\",\"xref\":\"x2\",\"y\":0.7808953179999999,\"yref\":\"y2\"},{\"font\":{\"color\":\"rgba(0,0,0,1)\",\"size\":14},\"showarrow\":false,\"text\":\"gro\\u00dfe Motoren\",\"x\":0.0,\"xanchor\":\"center\",\"xref\":\"x2\",\"y\":0.95,\"yref\":\"y2\"},{\"arrowcolor\":\"rgba(0,0,0,.5)\",\"arrowhead\":2,\"arrowsize\":2,\"ax\":-1.5,\"axref\":\"x2\",\"ay\":0.1,\"ayref\":\"y\",\"text\":\"\",\"x\":1.5,\"xref\":\"x2\",\"y\":0.1,\"yref\":\"y2\"},{\"font\":{\"color\":\"rgba(0,0,0,.7)\",\"size\":16},\"showarrow\":false,\"text\":\"Bergland\",\"x\":2,\"xanchor\":\"right\",\"xref\":\"x2\",\"y\":0.05,\"yref\":\"y2\"},{\"font\":{\"color\":\"rgba(0,0,0,.7)\",\"size\":16},\"showarrow\":false,\"text\":\"Flachland\",\"x\":-2,\"xanchor\":\"left\",\"xref\":\"x2\",\"y\":0.05,\"yref\":\"y2\"}],\"margin\":{\"t\":50,\"r\":20,\"b\":20,\"l\":20},\"height\":400,\"width\":800,\"plot_bgcolor\":\"rgba(200,200,200,.3)\",\"paper_bgcolor\":\"rgba(0,0,0,0)\"},                        {\"responsive\": true}                    ).then(function(){\n",
       "                            \n",
       "var gd = document.getElementById('4dffbfed-eb05-4ee7-9bde-8ed76b3370b6');\n",
       "var x = new MutationObserver(function (mutations, observer) {{\n",
       "        var display = window.getComputedStyle(gd).display;\n",
       "        if (!display || display === 'none') {{\n",
       "            console.log([gd, 'removed!']);\n",
       "            Plotly.purge(gd);\n",
       "            observer.disconnect();\n",
       "        }}\n",
       "}});\n",
       "\n",
       "// Listen for the removal of the full notebook cells\n",
       "var notebookContainer = gd.closest('#notebook-container');\n",
       "if (notebookContainer) {{\n",
       "    x.observe(notebookContainer, {childList: true});\n",
       "}}\n",
       "\n",
       "// Listen for the clearing of the current output cell\n",
       "var outputEl = gd.closest('.output');\n",
       "if (outputEl) {{\n",
       "    x.observe(outputEl, {childList: true});\n",
       "}}\n",
       "\n",
       "                        })                };                });            </script>        </div>"
      ]
     },
     "metadata": {},
     "output_type": "display_data"
    }
   ],
   "source": [
    "colors = [\"rgba(255,237,160,.5)\", \"rgba(254,178,76,.5)\", \"rgba(240,59,32,.5)\"]\n",
    "colors = [\"rgba(255,0,0,.5)\", \"rgba(0,255,0,.5)\", \"rgba(0,0,255,.5)\"]\n",
    "motors = [\"low\", \"mid\", \"hi\"]\n",
    "annotations = [\"kleine Motoren\", \"mittlere Motoren\", \"große Motoren\"]\n",
    "incomes = [-2.0, 2.0]\n",
    "widths = [.95, .5]\n",
    "\n",
    "fig = make_subplots(rows = 1, cols = 2,\n",
    "                    horizontal_spacing = .02,\n",
    "                    column_titles = [\"Geringes Einkommen\", \"Hohes Einkommen\"], )\n",
    "\n",
    "for plotcolumn, income_scaled in zip([1,2], incomes):\n",
    "    # filter to df for each panel:\n",
    "    post_m1_thispanel = post_m1.loc[\n",
    "        (post_m1.income_scaled == income_scaled)\n",
    "    ]\n",
    "\n",
    "    for color, motor, annotation in zip(colors, motors, annotations):\n",
    "        # filter to df for each trace:\n",
    "        post_m1_thistrace = post_m1_thispanel.loc[\n",
    "            (post_m1.motor == motor) &\n",
    "            (post_m1.width == .95) # arbitrary; need any 1 width to draw mean\n",
    "        ]\n",
    "        this_annotation_y = np.mean(post_m1_thistrace.ratio) - .05\n",
    "\n",
    "        # the area trace:\n",
    "        fig.add_trace(\n",
    "            go.Scatter(\n",
    "                x = post_m1_thistrace.m_rugged_scaled,\n",
    "                y = post_m1_thistrace.ratio,\n",
    "                mode = \"lines\",\n",
    "                fill = \"tonexty\",\n",
    "                line = dict(width = 0),\n",
    "                fillcolor = color,\n",
    "                showlegend = False,\n",
    "            ), col = plotcolumn, row = 1 )\n",
    "        \n",
    "        # motorization label:\n",
    "        fig.add_annotation(x = .0,\n",
    "                           y = this_annotation_y,\n",
    "                           text = annotation,\n",
    "                           xref = \"x\",\n",
    "                           xanchor = \"center\",\n",
    "                           showarrow = False,\n",
    "                           font = dict(color = \"rgba(0,0,0,1)\",\n",
    "                                       size = 14),\n",
    "                           row = 1, col = plotcolumn\n",
    "                          )\n",
    "\n",
    "    # arrow:\n",
    "    fig.add_annotation(x = 1.5, xref = \"x\",\n",
    "                       y = .1, yref = \"y\",\n",
    "                       ax = -1.5, axref = \"x\"+str(plotcolumn),\n",
    "                       ay = .1, ayref = \"y\",\n",
    "                       text = \"\", arrowhead = 2, arrowcolor = \"rgba(0,0,0,.5)\", arrowsize = 2,\n",
    "                       row = 1, col = plotcolumn\n",
    "                      )\n",
    "    \n",
    "    # Bergland & Flachland:\n",
    "    fig.add_annotation(x = 2, y = .05, showarrow = False,\n",
    "                       text = \"Bergland\", xanchor = \"right\",\n",
    "                       font = dict(color = \"rgba(0,0,0,.7)\", size = 16),\n",
    "                       row = 1, col = plotcolumn\n",
    "                      )\n",
    "    fig.add_annotation(x = -2, y = .05, showarrow = False,\n",
    "                       text = \"Flachland\", xanchor = \"left\",\n",
    "                       font = dict(color = \"rgba(0,0,0,.7)\", size = 16),\n",
    "                       row = 1, col = plotcolumn\n",
    "                      )\n",
    "\n",
    "    # depict uncertainty:\n",
    "    for width in widths:\n",
    "    \n",
    "        for motor in [\"low\", \"mid\"]:\n",
    "\n",
    "            post_m1_uncertainty = post_m1_thispanel.loc[(post_m1_thispanel.width == width) &\n",
    "                                                        (post_m1_thispanel.motor == motor)]\n",
    "\n",
    "            fig.add_trace(\n",
    "                go.Scatter(\n",
    "                    x = pd.concat([post_m1_uncertainty.m_rugged_scaled,\n",
    "                                   post_m1_uncertainty.m_rugged_scaled[::-1]]),\n",
    "                    y = pd.concat([post_m1_uncertainty.upper,\n",
    "                                   post_m1_uncertainty.lower[::-1]]),\n",
    "                    mode = \"lines\",\n",
    "                    line = dict(width = 0),\n",
    "                    fill = \"toself\",\n",
    "                    fillcolor = \"rgba(255,255,255,.3)\",\n",
    "                    showlegend = False\n",
    "                ),\n",
    "                row = 1, col = plotcolumn\n",
    "            )\n",
    "\n",
    "                  \n",
    "    \n",
    "fig.update_layout(height = 400,\n",
    "                  width = 800,\n",
    "                  xaxis = dict(tickvals = [],\n",
    "                               zeroline = False,\n",
    "                               gridcolor = \"rgba(0,0,0,0)\"\n",
    "                              ),\n",
    "                  xaxis2 = dict(tickvals = [],\n",
    "                               zeroline = False,\n",
    "                               gridcolor = \"rgba(0,0,0,0)\"\n",
    "                              ),\n",
    "                  yaxis = dict(tickvals = [],\n",
    "                               range = [0,1],\n",
    "                               zeroline = False,\n",
    "                               gridcolor = \"rgba(0,0,0,0)\"\n",
    "                              ),\n",
    "                  yaxis2 = dict(tickvals = [],\n",
    "                               range = [0,1],\n",
    "                               zeroline = False,\n",
    "                               gridcolor = \"rgba(0,0,0,0)\"\n",
    "                              ),\n",
    "                  margin = dict(t=50, r=20, b=20, l=20),\n",
    "                  plot_bgcolor = \"rgba(200,200,200,.3)\",\n",
    "                  paper_bgcolor = \"rgba(0,0,0,0)\",\n",
    "                  xaxis_gridcolor = \"rgba(0,0,0,0)\",\n",
    "                 )\n",
    "\n",
    "fig.layout.annotations[0].xanchor = \"left\"\n",
    "fig.layout.annotations[0].x = 0\n",
    "fig.layout.annotations[1].xanchor = \"left\"\n",
    "fig.layout.annotations[1].x = .51\n",
    "    \n",
    "fig.show()"
   ]
  },
  {
   "cell_type": "code",
   "execution_count": null,
   "id": "327d4a9b-a8bc-4fc6-b883-938cf563ace7",
   "metadata": {},
   "outputs": [],
   "source": [
    "df = px.data.gapminder()\n",
    "df"
   ]
  }
 ],
 "metadata": {
  "kernelspec": {
   "display_name": "Python 3 (ipykernel)",
   "language": "python",
   "name": "python3"
  },
  "language_info": {
   "codemirror_mode": {
    "name": "ipython",
    "version": 3
   },
   "file_extension": ".py",
   "mimetype": "text/x-python",
   "name": "python",
   "nbconvert_exporter": "python",
   "pygments_lexer": "ipython3",
   "version": "3.9.7"
  }
 },
 "nbformat": 4,
 "nbformat_minor": 5
}
